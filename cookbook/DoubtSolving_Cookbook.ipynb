{
  "nbformat": 4,
  "nbformat_minor": 0,
  "metadata": {
    "colab": {
      "provenance": []
    },
    "kernelspec": {
      "name": "python3",
      "display_name": "Python 3"
    },
    "language_info": {
      "name": "python"
    }
  },
  "cells": [
    {
      "cell_type": "markdown",
      "source": [
        "# Doubt Solving over Images using [Educhain](https://github.com/satvik314/educhain).\n",
        "\n",
        "The notebook illustrates the use of Educhain in the task of solving doubts for questions present in images.\n",
        "\n",
        "1. Educhain let's you use computer vision for solving questions in images.\n",
        "2. Prompts can be modified to specific uses.\n",
        "3. Multiple LLMs with vision capabilities can be used. (Eg: GPT-4, GPT-4o etc)\n",
        "\n",
        "[![Open In Colab](https://colab.research.google.com/assets/colab-badge.svg)](https://colab.research.google.com/drive/1Vx8v5M4mhbTqgebocJ7ECGKa4CSNmYQ9?usp=sharing)"
      ],
      "metadata": {
        "id": "He34L9Nc_Gvh"
      }
    },
    {
      "cell_type": "markdown",
      "source": [
        "Let's start by installing the necessary packages and setting up our environment variables"
      ],
      "metadata": {
        "id": "gaOp_bCkUX1G"
      }
    },
    {
      "cell_type": "code",
      "execution_count": null,
      "metadata": {
        "colab": {
          "base_uri": "https://localhost:8080/"
        },
        "id": "QUrRgZaKxNHQ",
        "outputId": "d061392a-53f9-4252-c552-3f9302a42875"
      },
      "outputs": [
        {
          "output_type": "stream",
          "name": "stdout",
          "text": [
            "Collecting educhain\n",
            "  Downloading educhain-0.2.11-py3-none-any.whl.metadata (6.2 kB)\n",
            "Collecting langchain (from educhain)\n",
            "  Downloading langchain-0.2.11-py3-none-any.whl.metadata (7.1 kB)\n",
            "Collecting langchain-community (from educhain)\n",
            "  Downloading langchain_community-0.2.10-py3-none-any.whl.metadata (2.7 kB)\n",
            "Collecting langchain-openai (from educhain)\n",
            "  Downloading langchain_openai-0.1.19-py3-none-any.whl.metadata (2.6 kB)\n",
            "Collecting openai (from educhain)\n",
            "  Downloading openai-1.37.1-py3-none-any.whl.metadata (22 kB)\n",
            "Collecting python-dotenv (from educhain)\n",
            "  Downloading python_dotenv-1.0.1-py3-none-any.whl.metadata (23 kB)\n",
            "Requirement already satisfied: pandas in /usr/local/lib/python3.10/dist-packages (from educhain) (2.1.4)\n",
            "Collecting reportlab (from educhain)\n",
            "  Downloading reportlab-4.2.2-py3-none-any.whl.metadata (1.4 kB)\n",
            "Collecting PyPDF2 (from educhain)\n",
            "  Downloading pypdf2-3.0.1-py3-none-any.whl.metadata (6.8 kB)\n",
            "Requirement already satisfied: beautifulsoup4 in /usr/local/lib/python3.10/dist-packages (from educhain) (4.12.3)\n",
            "Requirement already satisfied: soupsieve>1.2 in /usr/local/lib/python3.10/dist-packages (from beautifulsoup4->educhain) (2.5)\n",
            "Requirement already satisfied: PyYAML>=5.3 in /usr/local/lib/python3.10/dist-packages (from langchain->educhain) (6.0.1)\n",
            "Requirement already satisfied: SQLAlchemy<3,>=1.4 in /usr/local/lib/python3.10/dist-packages (from langchain->educhain) (2.0.31)\n",
            "Requirement already satisfied: aiohttp<4.0.0,>=3.8.3 in /usr/local/lib/python3.10/dist-packages (from langchain->educhain) (3.9.5)\n",
            "Requirement already satisfied: async-timeout<5.0.0,>=4.0.0 in /usr/local/lib/python3.10/dist-packages (from langchain->educhain) (4.0.3)\n",
            "Collecting langchain-core<0.3.0,>=0.2.23 (from langchain->educhain)\n",
            "  Downloading langchain_core-0.2.24-py3-none-any.whl.metadata (6.2 kB)\n",
            "Collecting langchain-text-splitters<0.3.0,>=0.2.0 (from langchain->educhain)\n",
            "  Downloading langchain_text_splitters-0.2.2-py3-none-any.whl.metadata (2.1 kB)\n",
            "Collecting langsmith<0.2.0,>=0.1.17 (from langchain->educhain)\n",
            "  Downloading langsmith-0.1.93-py3-none-any.whl.metadata (13 kB)\n",
            "Requirement already satisfied: numpy<2,>=1 in /usr/local/lib/python3.10/dist-packages (from langchain->educhain) (1.26.4)\n",
            "Requirement already satisfied: pydantic<3,>=1 in /usr/local/lib/python3.10/dist-packages (from langchain->educhain) (2.8.2)\n",
            "Requirement already satisfied: requests<3,>=2 in /usr/local/lib/python3.10/dist-packages (from langchain->educhain) (2.31.0)\n",
            "Requirement already satisfied: tenacity!=8.4.0,<9.0.0,>=8.1.0 in /usr/local/lib/python3.10/dist-packages (from langchain->educhain) (8.5.0)\n",
            "Collecting dataclasses-json<0.7,>=0.5.7 (from langchain-community->educhain)\n",
            "  Downloading dataclasses_json-0.6.7-py3-none-any.whl.metadata (25 kB)\n",
            "Collecting tiktoken<1,>=0.7 (from langchain-openai->educhain)\n",
            "  Downloading tiktoken-0.7.0-cp310-cp310-manylinux_2_17_x86_64.manylinux2014_x86_64.whl.metadata (6.6 kB)\n",
            "Requirement already satisfied: anyio<5,>=3.5.0 in /usr/local/lib/python3.10/dist-packages (from openai->educhain) (3.7.1)\n",
            "Requirement already satisfied: distro<2,>=1.7.0 in /usr/lib/python3/dist-packages (from openai->educhain) (1.7.0)\n",
            "Collecting httpx<1,>=0.23.0 (from openai->educhain)\n",
            "  Downloading httpx-0.27.0-py3-none-any.whl.metadata (7.2 kB)\n",
            "Requirement already satisfied: sniffio in /usr/local/lib/python3.10/dist-packages (from openai->educhain) (1.3.1)\n",
            "Requirement already satisfied: tqdm>4 in /usr/local/lib/python3.10/dist-packages (from openai->educhain) (4.66.4)\n",
            "Requirement already satisfied: typing-extensions<5,>=4.7 in /usr/local/lib/python3.10/dist-packages (from openai->educhain) (4.12.2)\n",
            "Requirement already satisfied: python-dateutil>=2.8.2 in /usr/local/lib/python3.10/dist-packages (from pandas->educhain) (2.8.2)\n",
            "Requirement already satisfied: pytz>=2020.1 in /usr/local/lib/python3.10/dist-packages (from pandas->educhain) (2024.1)\n",
            "Requirement already satisfied: tzdata>=2022.1 in /usr/local/lib/python3.10/dist-packages (from pandas->educhain) (2024.1)\n",
            "Requirement already satisfied: pillow>=9.0.0 in /usr/local/lib/python3.10/dist-packages (from reportlab->educhain) (9.4.0)\n",
            "Requirement already satisfied: chardet in /usr/local/lib/python3.10/dist-packages (from reportlab->educhain) (5.2.0)\n",
            "Requirement already satisfied: aiosignal>=1.1.2 in /usr/local/lib/python3.10/dist-packages (from aiohttp<4.0.0,>=3.8.3->langchain->educhain) (1.3.1)\n",
            "Requirement already satisfied: attrs>=17.3.0 in /usr/local/lib/python3.10/dist-packages (from aiohttp<4.0.0,>=3.8.3->langchain->educhain) (23.2.0)\n",
            "Requirement already satisfied: frozenlist>=1.1.1 in /usr/local/lib/python3.10/dist-packages (from aiohttp<4.0.0,>=3.8.3->langchain->educhain) (1.4.1)\n",
            "Requirement already satisfied: multidict<7.0,>=4.5 in /usr/local/lib/python3.10/dist-packages (from aiohttp<4.0.0,>=3.8.3->langchain->educhain) (6.0.5)\n",
            "Requirement already satisfied: yarl<2.0,>=1.0 in /usr/local/lib/python3.10/dist-packages (from aiohttp<4.0.0,>=3.8.3->langchain->educhain) (1.9.4)\n",
            "Requirement already satisfied: idna>=2.8 in /usr/local/lib/python3.10/dist-packages (from anyio<5,>=3.5.0->openai->educhain) (3.7)\n",
            "Requirement already satisfied: exceptiongroup in /usr/local/lib/python3.10/dist-packages (from anyio<5,>=3.5.0->openai->educhain) (1.2.2)\n",
            "Collecting marshmallow<4.0.0,>=3.18.0 (from dataclasses-json<0.7,>=0.5.7->langchain-community->educhain)\n",
            "  Downloading marshmallow-3.21.3-py3-none-any.whl.metadata (7.1 kB)\n",
            "Collecting typing-inspect<1,>=0.4.0 (from dataclasses-json<0.7,>=0.5.7->langchain-community->educhain)\n",
            "  Downloading typing_inspect-0.9.0-py3-none-any.whl.metadata (1.5 kB)\n",
            "Requirement already satisfied: certifi in /usr/local/lib/python3.10/dist-packages (from httpx<1,>=0.23.0->openai->educhain) (2024.7.4)\n",
            "Collecting httpcore==1.* (from httpx<1,>=0.23.0->openai->educhain)\n",
            "  Downloading httpcore-1.0.5-py3-none-any.whl.metadata (20 kB)\n",
            "Collecting h11<0.15,>=0.13 (from httpcore==1.*->httpx<1,>=0.23.0->openai->educhain)\n",
            "  Downloading h11-0.14.0-py3-none-any.whl.metadata (8.2 kB)\n",
            "Collecting jsonpatch<2.0,>=1.33 (from langchain-core<0.3.0,>=0.2.23->langchain->educhain)\n",
            "  Downloading jsonpatch-1.33-py2.py3-none-any.whl.metadata (3.0 kB)\n",
            "Requirement already satisfied: packaging<25,>=23.2 in /usr/local/lib/python3.10/dist-packages (from langchain-core<0.3.0,>=0.2.23->langchain->educhain) (24.1)\n",
            "Collecting orjson<4.0.0,>=3.9.14 (from langsmith<0.2.0,>=0.1.17->langchain->educhain)\n",
            "  Downloading orjson-3.10.6-cp310-cp310-manylinux_2_17_x86_64.manylinux2014_x86_64.whl.metadata (50 kB)\n",
            "\u001b[2K     \u001b[90m━━━━━━━━━━━━━━━━━━━━━━━━━━━━━━━━━━━━━━━━\u001b[0m \u001b[32m50.4/50.4 kB\u001b[0m \u001b[31m1.4 MB/s\u001b[0m eta \u001b[36m0:00:00\u001b[0m\n",
            "\u001b[?25hRequirement already satisfied: annotated-types>=0.4.0 in /usr/local/lib/python3.10/dist-packages (from pydantic<3,>=1->langchain->educhain) (0.7.0)\n",
            "Requirement already satisfied: pydantic-core==2.20.1 in /usr/local/lib/python3.10/dist-packages (from pydantic<3,>=1->langchain->educhain) (2.20.1)\n",
            "Requirement already satisfied: six>=1.5 in /usr/local/lib/python3.10/dist-packages (from python-dateutil>=2.8.2->pandas->educhain) (1.16.0)\n",
            "Requirement already satisfied: charset-normalizer<4,>=2 in /usr/local/lib/python3.10/dist-packages (from requests<3,>=2->langchain->educhain) (3.3.2)\n",
            "Requirement already satisfied: urllib3<3,>=1.21.1 in /usr/local/lib/python3.10/dist-packages (from requests<3,>=2->langchain->educhain) (2.0.7)\n",
            "Requirement already satisfied: greenlet!=0.4.17 in /usr/local/lib/python3.10/dist-packages (from SQLAlchemy<3,>=1.4->langchain->educhain) (3.0.3)\n",
            "Requirement already satisfied: regex>=2022.1.18 in /usr/local/lib/python3.10/dist-packages (from tiktoken<1,>=0.7->langchain-openai->educhain) (2024.5.15)\n",
            "Collecting jsonpointer>=1.9 (from jsonpatch<2.0,>=1.33->langchain-core<0.3.0,>=0.2.23->langchain->educhain)\n",
            "  Downloading jsonpointer-3.0.0-py2.py3-none-any.whl.metadata (2.3 kB)\n",
            "Collecting mypy-extensions>=0.3.0 (from typing-inspect<1,>=0.4.0->dataclasses-json<0.7,>=0.5.7->langchain-community->educhain)\n",
            "  Downloading mypy_extensions-1.0.0-py3-none-any.whl.metadata (1.1 kB)\n",
            "Downloading educhain-0.2.11-py3-none-any.whl (12 kB)\n",
            "Downloading langchain-0.2.11-py3-none-any.whl (990 kB)\n",
            "\u001b[2K   \u001b[90m━━━━━━━━━━━━━━━━━━━━━━━━━━━━━━━━━━━━━━━━\u001b[0m \u001b[32m990.3/990.3 kB\u001b[0m \u001b[31m7.4 MB/s\u001b[0m eta \u001b[36m0:00:00\u001b[0m\n",
            "\u001b[?25hDownloading langchain_community-0.2.10-py3-none-any.whl (2.3 MB)\n",
            "\u001b[2K   \u001b[90m━━━━━━━━━━━━━━━━━━━━━━━━━━━━━━━━━━━━━━━━\u001b[0m \u001b[32m2.3/2.3 MB\u001b[0m \u001b[31m35.6 MB/s\u001b[0m eta \u001b[36m0:00:00\u001b[0m\n",
            "\u001b[?25hDownloading langchain_openai-0.1.19-py3-none-any.whl (47 kB)\n",
            "\u001b[2K   \u001b[90m━━━━━━━━━━━━━━━━━━━━━━━━━━━━━━━━━━━━━━━━\u001b[0m \u001b[32m47.1/47.1 kB\u001b[0m \u001b[31m3.1 MB/s\u001b[0m eta \u001b[36m0:00:00\u001b[0m\n",
            "\u001b[?25hDownloading openai-1.37.1-py3-none-any.whl (337 kB)\n",
            "\u001b[2K   \u001b[90m━━━━━━━━━━━━━━━━━━━━━━━━━━━━━━━━━━━━━━━━\u001b[0m \u001b[32m337.0/337.0 kB\u001b[0m \u001b[31m23.6 MB/s\u001b[0m eta \u001b[36m0:00:00\u001b[0m\n",
            "\u001b[?25hDownloading pypdf2-3.0.1-py3-none-any.whl (232 kB)\n",
            "\u001b[2K   \u001b[90m━━━━━━━━━━━━━━━━━━━━━━━━━━━━━━━━━━━━━━━━\u001b[0m \u001b[32m232.6/232.6 kB\u001b[0m \u001b[31m20.0 MB/s\u001b[0m eta \u001b[36m0:00:00\u001b[0m\n",
            "\u001b[?25hDownloading python_dotenv-1.0.1-py3-none-any.whl (19 kB)\n",
            "Downloading reportlab-4.2.2-py3-none-any.whl (1.9 MB)\n",
            "\u001b[2K   \u001b[90m━━━━━━━━━━━━━━━━━━━━━━━━━━━━━━━━━━━━━━━━\u001b[0m \u001b[32m1.9/1.9 MB\u001b[0m \u001b[31m70.6 MB/s\u001b[0m eta \u001b[36m0:00:00\u001b[0m\n",
            "\u001b[?25hDownloading dataclasses_json-0.6.7-py3-none-any.whl (28 kB)\n",
            "Downloading httpx-0.27.0-py3-none-any.whl (75 kB)\n",
            "\u001b[2K   \u001b[90m━━━━━━━━━━━━━━━━━━━━━━━━━━━━━━━━━━━━━━━━\u001b[0m \u001b[32m75.6/75.6 kB\u001b[0m \u001b[31m5.8 MB/s\u001b[0m eta \u001b[36m0:00:00\u001b[0m\n",
            "\u001b[?25hDownloading httpcore-1.0.5-py3-none-any.whl (77 kB)\n",
            "\u001b[2K   \u001b[90m━━━━━━━━━━━━━━━━━━━━━━━━━━━━━━━━━━━━━━━━\u001b[0m \u001b[32m77.9/77.9 kB\u001b[0m \u001b[31m6.3 MB/s\u001b[0m eta \u001b[36m0:00:00\u001b[0m\n",
            "\u001b[?25hDownloading langchain_core-0.2.24-py3-none-any.whl (377 kB)\n",
            "\u001b[2K   \u001b[90m━━━━━━━━━━━━━━━━━━━━━━━━━━━━━━━━━━━━━━━━\u001b[0m \u001b[32m377.3/377.3 kB\u001b[0m \u001b[31m27.6 MB/s\u001b[0m eta \u001b[36m0:00:00\u001b[0m\n",
            "\u001b[?25hDownloading langchain_text_splitters-0.2.2-py3-none-any.whl (25 kB)\n",
            "Downloading langsmith-0.1.93-py3-none-any.whl (139 kB)\n",
            "\u001b[2K   \u001b[90m━━━━━━━━━━━━━━━━━━━━━━━━━━━━━━━━━━━━━━━━\u001b[0m \u001b[32m139.8/139.8 kB\u001b[0m \u001b[31m13.1 MB/s\u001b[0m eta \u001b[36m0:00:00\u001b[0m\n",
            "\u001b[?25hDownloading tiktoken-0.7.0-cp310-cp310-manylinux_2_17_x86_64.manylinux2014_x86_64.whl (1.1 MB)\n",
            "\u001b[2K   \u001b[90m━━━━━━━━━━━━━━━━━━━━━━━━━━━━━━━━━━━━━━━━\u001b[0m \u001b[32m1.1/1.1 MB\u001b[0m \u001b[31m52.6 MB/s\u001b[0m eta \u001b[36m0:00:00\u001b[0m\n",
            "\u001b[?25hDownloading jsonpatch-1.33-py2.py3-none-any.whl (12 kB)\n",
            "Downloading marshmallow-3.21.3-py3-none-any.whl (49 kB)\n",
            "\u001b[2K   \u001b[90m━━━━━━━━━━━━━━━━━━━━━━━━━━━━━━━━━━━━━━━━\u001b[0m \u001b[32m49.2/49.2 kB\u001b[0m \u001b[31m3.2 MB/s\u001b[0m eta \u001b[36m0:00:00\u001b[0m\n",
            "\u001b[?25hDownloading orjson-3.10.6-cp310-cp310-manylinux_2_17_x86_64.manylinux2014_x86_64.whl (141 kB)\n",
            "\u001b[2K   \u001b[90m━━━━━━━━━━━━━━━━━━━━━━━━━━━━━━━━━━━━━━━━\u001b[0m \u001b[32m141.1/141.1 kB\u001b[0m \u001b[31m9.5 MB/s\u001b[0m eta \u001b[36m0:00:00\u001b[0m\n",
            "\u001b[?25hDownloading typing_inspect-0.9.0-py3-none-any.whl (8.8 kB)\n",
            "Downloading h11-0.14.0-py3-none-any.whl (58 kB)\n",
            "\u001b[2K   \u001b[90m━━━━━━━━━━━━━━━━━━━━━━━━━━━━━━━━━━━━━━━━\u001b[0m \u001b[32m58.3/58.3 kB\u001b[0m \u001b[31m4.7 MB/s\u001b[0m eta \u001b[36m0:00:00\u001b[0m\n",
            "\u001b[?25hDownloading jsonpointer-3.0.0-py2.py3-none-any.whl (7.6 kB)\n",
            "Downloading mypy_extensions-1.0.0-py3-none-any.whl (4.7 kB)\n",
            "Installing collected packages: reportlab, python-dotenv, PyPDF2, orjson, mypy-extensions, marshmallow, jsonpointer, h11, typing-inspect, tiktoken, jsonpatch, httpcore, langsmith, httpx, dataclasses-json, openai, langchain-core, langchain-text-splitters, langchain-openai, langchain, langchain-community, educhain\n",
            "Successfully installed PyPDF2-3.0.1 dataclasses-json-0.6.7 educhain-0.2.11 h11-0.14.0 httpcore-1.0.5 httpx-0.27.0 jsonpatch-1.33 jsonpointer-3.0.0 langchain-0.2.11 langchain-community-0.2.10 langchain-core-0.2.24 langchain-openai-0.1.19 langchain-text-splitters-0.2.2 langsmith-0.1.93 marshmallow-3.21.3 mypy-extensions-1.0.0 openai-1.37.1 orjson-3.10.6 python-dotenv-1.0.1 reportlab-4.2.2 tiktoken-0.7.0 typing-inspect-0.9.0\n"
          ]
        }
      ],
      "source": [
        "#Installing the packages\n",
        "!pip install educhain"
      ]
    },
    {
      "cell_type": "code",
      "source": [
        "# Setting up the API keys\n",
        "import os\n",
        "from google.colab import userdata\n",
        "\n",
        "os.environ[\"OPENAI_API_KEY\"] = userdata.get(\"OPENAI_API_KEY\")"
      ],
      "metadata": {
        "id": "VixCnqWZ0DLT"
      },
      "execution_count": null,
      "outputs": []
    },
    {
      "cell_type": "markdown",
      "source": [
        "# Set-Up\n",
        "\n",
        "Start by calling the `DoubtSolver` class in `educhain.content_engine`."
      ],
      "metadata": {
        "id": "BitndQkeS67h"
      }
    },
    {
      "cell_type": "code",
      "source": [
        "from educhain.content_engine import DoubtSolver\n",
        "\n",
        "vision_solver = DoubtSolver()"
      ],
      "metadata": {
        "id": "41iyZzh5yMa_"
      },
      "execution_count": null,
      "outputs": []
    },
    {
      "cell_type": "code",
      "source": [
        "# Function to display the image\n",
        "def display_image(image):\n",
        "  from IPython.display import Image, display\n",
        "\n",
        "  image_url = image\n",
        "  display(Image(url=image_url, width=533.33, height=300))"
      ],
      "metadata": {
        "id": "zfnonMm402HX"
      },
      "execution_count": null,
      "outputs": []
    },
    {
      "cell_type": "code",
      "source": [
        "image = \"https://i.ytimg.com/vi/bLz5N_6fkZ8/maxresdefault.jpg\" # replace with your image URL\n",
        "\n",
        "display_image(image)"
      ],
      "metadata": {
        "colab": {
          "base_uri": "https://localhost:8080/",
          "height": 321
        },
        "id": "kqBPwaTwzkSz",
        "outputId": "d466318a-5461-486a-bbef-7b05fee27967"
      },
      "execution_count": null,
      "outputs": [
        {
          "output_type": "display_data",
          "data": {
            "text/html": [
              "<img src=\"https://i.ytimg.com/vi/bLz5N_6fkZ8/maxresdefault.jpg\" width=\"533\" height=\"300\"/>"
            ],
            "text/plain": [
              "<IPython.core.display.Image object>"
            ]
          },
          "metadata": {}
        }
      ]
    },
    {
      "cell_type": "markdown",
      "source": [
        "# Basic Usage\n",
        "\n",
        "Call the `solve` method and pass in the `img_path` as a parameter."
      ],
      "metadata": {
        "id": "NVr6YmZHTTwo"
      }
    },
    {
      "cell_type": "code",
      "source": [
        "result = vision_solver.solve(img_path=image)\n",
        "\n",
        "result.show()"
      ],
      "metadata": {
        "colab": {
          "base_uri": "https://localhost:8080/"
        },
        "id": "bllcuNGMzD6z",
        "outputId": "b6ac5a78-0c43-41f9-9cd3-db67551d4a78"
      },
      "execution_count": null,
      "outputs": [
        {
          "output_type": "stream",
          "name": "stdout",
          "text": [
            "Explanation:\n",
            "To evaluate the integral of the function (8 + 2x) from 4 to 6, we will use the Fundamental Theorem of Calculus. This theorem states that if F is an antiderivative of f on an interval [a, b], then the integral of f from a to b is given by F(b) - F(a). In this case, we need to find an antiderivative of the function (8 + 2x) and then evaluate it at the bounds 6 and 4.\n",
            "\n",
            "Steps:\n",
            "1. 1. Identify the function to integrate: f(x) = 8 + 2x.\n",
            "2. 2. Find the antiderivative F(x) of f(x). The antiderivative is calculated as follows:\n",
            "3.    - The integral of 8 with respect to x is 8x.\n",
            "4.    - The integral of 2x with respect to x is x^2.\n",
            "5.    - Therefore, F(x) = 8x + x^2 + C, where C is the constant of integration.\n",
            "6. 3. Evaluate F at the upper limit (6): F(6) = 8(6) + (6)^2 = 48 + 36 = 84.\n",
            "7. 4. Evaluate F at the lower limit (4): F(4) = 8(4) + (4)^2 = 32 + 16 = 48.\n",
            "8. 5. Subtract the two results: F(6) - F(4) = 84 - 48 = 36.\n",
            "9. 6. Therefore, the value of the integral is 36.\n",
            "\n",
            "Additional Notes:\n",
            "When finding the antiderivative, remember to include the constant of integration, although it cancels out when evaluating definite integrals. Always double-check your calculations for accuracy.\n"
          ]
        }
      ]
    },
    {
      "cell_type": "markdown",
      "source": [
        "# Using custom prompts\n",
        "\n",
        "Pass the `prompt` parameter into `solve` for custom requirements."
      ],
      "metadata": {
        "id": "hEcWt3A7TlKL"
      }
    },
    {
      "cell_type": "code",
      "source": [
        "result = vision_solver.solve(img_path=image,\n",
        "                             prompt=\"Do the integral using 3/8 simpson's rule.\")\n",
        "\n",
        "result.show()"
      ],
      "metadata": {
        "colab": {
          "base_uri": "https://localhost:8080/"
        },
        "id": "TPdE577R2PTm",
        "outputId": "075644cc-ef47-46ba-f575-fcfdca355eb8"
      },
      "execution_count": null,
      "outputs": [
        {
          "output_type": "stream",
          "name": "stdout",
          "text": [
            "Explanation:\n",
            "To evaluate the integral of the function f(x) = 8 + 2x from 4 to 6 using Simpson's 3/8 rule, we first need to divide the interval into subintervals. The 3/8 rule is used when we have a number of subintervals that is a multiple of 3. This method approximates the integral by using cubic polynomials to fit the function over each set of three points. The formula for Simpson's 3/8 rule is given by: \n",
            "\n",
            "\\[ I \\approx \\frac{3h}{8} \\left( f(x_0) + 3f(x_1) + 3f(x_2) + 2f(x_3) + 3f(x_4) + 3f(x_5) + f(x_6) \\right) \\]\n",
            "\n",
            "where h is the width of each subinterval.\n",
            "\n",
            "Steps:\n",
            "1. 1. Identify the function: f(x) = 8 + 2x.\n",
            "2. 2. Determine the limits of integration: a = 4, b = 6.\n",
            "3. 3. Calculate the number of subintervals (n): For Simpson's 3/8 rule, n should be a multiple of 3. Here, we can use n = 3.\n",
            "4. 4. Calculate the width of each subinterval: h = (b - a) / n = (6 - 4) / 3 = 2/3.\n",
            "5. 5. Determine the x-values: x_0 = 4, x_1 = 4 + h = 4 + 2/3 = 14/3, x_2 = 4 + 2h = 4 + 4/3 = 16/3, x_3 = 6.\n",
            "6. 6. Evaluate the function at these points: f(x_0) = f(4) = 8 + 2(4) = 16, f(x_1) = f(14/3) = 8 + 2(14/3) = 8 + 28/3 = 52/3, f(x_2) = f(16/3) = 8 + 2(16/3) = 8 + 32/3 = 56/3, f(x_3) = f(6) = 8 + 2(6) = 20.\n",
            "7. 7. Apply the Simpson's 3/8 rule formula: I ≈ (3h/8) * (f(x_0) + 3f(x_1) + 3f(x_2) + 2f(x_3)).\n",
            "8. 8. Substitute the values: I ≈ (3 * (2/3) / 8) * (16 + 3*(52/3) + 3*(56/3) + 2*20).\n",
            "9. 9. Simplify the expression to find the approximate value of the integral.\n",
            "\n",
            "Additional Notes:\n",
            "Ensure that the number of subintervals is a multiple of 3 when using Simpson's 3/8 rule. If the interval is not suitable, consider using a different numerical integration method or adjusting the number of subintervals.\n"
          ]
        }
      ]
    },
    {
      "cell_type": "markdown",
      "source": [
        "# Using custom LLMs\n",
        "\n",
        "Define a LLM using `ChatOpenAI` (ref:https://python.langchain.com/v0.2/docs/integrations/chat/openai/) and pass it with the `llm` parameter."
      ],
      "metadata": {
        "id": "TAcAwK_pTzIt"
      }
    },
    {
      "cell_type": "code",
      "source": [
        "from langchain_openai import ChatOpenAI\n",
        "\n",
        "llm = ChatOpenAI(\n",
        "    model=\"gpt-4o\",\n",
        "    temperature=0,\n",
        "    max_tokens=4096\n",
        ")\n",
        "\n",
        "result = vision_solver.solve(img_path=image,\n",
        "                             llm=llm)\n",
        "\n",
        "result.show()"
      ],
      "metadata": {
        "colab": {
          "base_uri": "https://localhost:8080/"
        },
        "id": "vx0G3eIi9fOW",
        "outputId": "c2e74d76-e822-4811-e125-fe7670e98e5d"
      },
      "execution_count": null,
      "outputs": [
        {
          "output_type": "stream",
          "name": "stdout",
          "text": [
            "Explanation:\n",
            "To evaluate the integral of the function 8 + 2x from 4 to 6 using the definition of the definite integral, we need to use the limit definition of the integral. The definition states that the integral of f(x) from a to b is the limit of the sum of f(x_i) * Δx as n approaches infinity, where Δx is the width of each subinterval and x_i is a sample point in each subinterval.\n",
            "\n",
            "Steps:\n",
            "1. 1. Divide the interval [4, 6] into n subintervals, each of width Δx = (b - a) / n = (6 - 4) / n = 2 / n.\n",
            "2. 2. Choose sample points x_i in each subinterval. For simplicity, we can use the right endpoints of each subinterval: x_i = 4 + i * Δx, where i ranges from 1 to n.\n",
            "3. 3. Evaluate the function at each sample point: f(x_i) = 8 + 2 * (4 + i * Δx) = 8 + 2 * (4 + i * (2 / n)) = 8 + 8 + 4i / n = 16 + 4i / n.\n",
            "4. 4. Form the Riemann sum: Σ f(x_i) * Δx = Σ (16 + 4i / n) * (2 / n) for i = 1 to n.\n",
            "5. 5. Simplify the sum: Σ (16 * 2 / n + 4i * 2 / n^2) = Σ (32 / n + 8i / n^2) for i = 1 to n.\n",
            "6. 6. Separate the sum into two parts: Σ (32 / n) + Σ (8i / n^2) for i = 1 to n.\n",
            "7. 7. Evaluate the sums: Σ (32 / n) = 32 / n * n = 32 and Σ (8i / n^2) = 8 / n^2 * Σ i = 8 / n^2 * (n(n + 1) / 2) = 8 / n^2 * (n^2 + n) / 2 = 4 + 4 / n.\n",
            "8. 8. Take the limit as n approaches infinity: lim (n -> ∞) (32 + 4 + 4 / n) = 32 + 4 = 36.\n",
            "9. 9. Therefore, the value of the integral is 36.\n",
            "\n",
            "Additional Notes:\n",
            "Using the definition of the definite integral can be more complex than using the Fundamental Theorem of Calculus, but it provides a deeper understanding of the concept of integration. In practice, the Fundamental Theorem of Calculus is often used for its simplicity and efficiency.\n"
          ]
        }
      ]
    },
    {
      "cell_type": "markdown",
      "source": [
        "Check out all you can do with Educhain on github: https://github.com/satvik314/educhain"
      ],
      "metadata": {
        "id": "PualQsxzUK9o"
      }
    }
  ]
}