{
  "nbformat": 4,
  "nbformat_minor": 0,
  "metadata": {
    "colab": {
      "provenance": []
    },
    "kernelspec": {
      "name": "python3",
      "display_name": "Python 3"
    },
    "language_info": {
      "name": "python"
    }
  },
  "cells": [
    {
      "cell_type": "markdown",
      "source": [
        "[![Open In Colab](https://colab.research.google.com/assets/colab-badge.svg)](https://colab.research.google.com/drive/1ImijJ-DF8XGTzyLJ0lq68yInrPN1-L8L?usp=sharing)"
      ],
      "metadata": {
        "id": "kQPjHGQRQPu6"
      }
    },
    {
      "cell_type": "markdown",
      "source": [
        "## educhain\n",
        "\n",
        "A Python package for generating educational content using Generative AI"
      ],
      "metadata": {
        "id": "QNv9n8mTPXds"
      }
    },
    {
      "cell_type": "code",
      "source": [
        "!pip install -qU educhain"
      ],
      "metadata": {
        "colab": {
          "base_uri": "https://localhost:8080/"
        },
        "id": "-noJRjtX2WBy",
        "outputId": "4619fc8f-a524-4392-a521-cf78d468b9fe"
      },
      "execution_count": null,
      "outputs": [
        {
          "output_type": "stream",
          "name": "stdout",
          "text": [
            "\u001b[?25l     \u001b[90m━━━━━━━━━━━━━━━━━━━━━━━━━━━━━━━━━━━━━━━━\u001b[0m \u001b[32m0.0/973.5 kB\u001b[0m \u001b[31m?\u001b[0m eta \u001b[36m-:--:--\u001b[0m\r\u001b[2K     \u001b[91m━━━━━\u001b[0m\u001b[91m╸\u001b[0m\u001b[90m━━━━━━━━━━━━━━━━━━━━━━━━━━━━━━━━━━\u001b[0m \u001b[32m143.4/973.5 kB\u001b[0m \u001b[31m4.8 MB/s\u001b[0m eta \u001b[36m0:00:01\u001b[0m\r\u001b[2K     \u001b[91m━━━━━━━━━━━━━━━━━━━━━━━━━━━━━━━━━━━━━━━\u001b[0m\u001b[91m╸\u001b[0m \u001b[32m972.8/973.5 kB\u001b[0m \u001b[31m16.2 MB/s\u001b[0m eta \u001b[36m0:00:01\u001b[0m\r\u001b[2K     \u001b[90m━━━━━━━━━━━━━━━━━━━━━━━━━━━━━━━━━━━━━━━━\u001b[0m \u001b[32m973.5/973.5 kB\u001b[0m \u001b[31m13.3 MB/s\u001b[0m eta \u001b[36m0:00:00\u001b[0m\n",
            "\u001b[2K     \u001b[90m━━━━━━━━━━━━━━━━━━━━━━━━━━━━━━━━━━━━━━━━\u001b[0m \u001b[32m2.1/2.1 MB\u001b[0m \u001b[31m58.0 MB/s\u001b[0m eta \u001b[36m0:00:00\u001b[0m\n",
            "\u001b[2K     \u001b[90m━━━━━━━━━━━━━━━━━━━━━━━━━━━━━━━━━━━━━━━━\u001b[0m \u001b[32m320.7/320.7 kB\u001b[0m \u001b[31m28.0 MB/s\u001b[0m eta \u001b[36m0:00:00\u001b[0m\n",
            "\u001b[2K     \u001b[90m━━━━━━━━━━━━━━━━━━━━━━━━━━━━━━━━━━━━━━━━\u001b[0m \u001b[32m1.9/1.9 MB\u001b[0m \u001b[31m81.2 MB/s\u001b[0m eta \u001b[36m0:00:00\u001b[0m\n",
            "\u001b[2K     \u001b[90m━━━━━━━━━━━━━━━━━━━━━━━━━━━━━━━━━━━━━━━━\u001b[0m \u001b[32m308.5/308.5 kB\u001b[0m \u001b[31m25.1 MB/s\u001b[0m eta \u001b[36m0:00:00\u001b[0m\n",
            "\u001b[2K     \u001b[90m━━━━━━━━━━━━━━━━━━━━━━━━━━━━━━━━━━━━━━━━\u001b[0m \u001b[32m122.3/122.3 kB\u001b[0m \u001b[31m14.0 MB/s\u001b[0m eta \u001b[36m0:00:00\u001b[0m\n",
            "\u001b[2K     \u001b[90m━━━━━━━━━━━━━━━━━━━━━━━━━━━━━━━━━━━━━━━━\u001b[0m \u001b[32m1.1/1.1 MB\u001b[0m \u001b[31m50.5 MB/s\u001b[0m eta \u001b[36m0:00:00\u001b[0m\n",
            "\u001b[2K     \u001b[90m━━━━━━━━━━━━━━━━━━━━━━━━━━━━━━━━━━━━━━━━\u001b[0m \u001b[32m75.6/75.6 kB\u001b[0m \u001b[31m8.2 MB/s\u001b[0m eta \u001b[36m0:00:00\u001b[0m\n",
            "\u001b[2K     \u001b[90m━━━━━━━━━━━━━━━━━━━━━━━━━━━━━━━━━━━━━━━━\u001b[0m \u001b[32m49.3/49.3 kB\u001b[0m \u001b[31m4.9 MB/s\u001b[0m eta \u001b[36m0:00:00\u001b[0m\n",
            "\u001b[2K     \u001b[90m━━━━━━━━━━━━━━━━━━━━━━━━━━━━━━━━━━━━━━━━\u001b[0m \u001b[32m77.9/77.9 kB\u001b[0m \u001b[31m8.3 MB/s\u001b[0m eta \u001b[36m0:00:00\u001b[0m\n",
            "\u001b[2K     \u001b[90m━━━━━━━━━━━━━━━━━━━━━━━━━━━━━━━━━━━━━━━━\u001b[0m \u001b[32m58.3/58.3 kB\u001b[0m \u001b[31m5.9 MB/s\u001b[0m eta \u001b[36m0:00:00\u001b[0m\n",
            "\u001b[2K     \u001b[90m━━━━━━━━━━━━━━━━━━━━━━━━━━━━━━━━━━━━━━━━\u001b[0m \u001b[32m53.0/53.0 kB\u001b[0m \u001b[31m4.9 MB/s\u001b[0m eta \u001b[36m0:00:00\u001b[0m\n",
            "\u001b[2K     \u001b[90m━━━━━━━━━━━━━━━━━━━━━━━━━━━━━━━━━━━━━━━━\u001b[0m \u001b[32m142.5/142.5 kB\u001b[0m \u001b[31m16.0 MB/s\u001b[0m eta \u001b[36m0:00:00\u001b[0m\n",
            "\u001b[?25h"
          ]
        }
      ]
    },
    {
      "cell_type": "code",
      "execution_count": null,
      "metadata": {
        "id": "kDUDzEXr2Rjr"
      },
      "outputs": [],
      "source": [
        "import os\n",
        "from google.colab import userdata\n",
        "\n",
        "os.environ[\"OPENAI_API_KEY\"] = userdata.get('OPENAI_API_KEY')"
      ]
    },
    {
      "cell_type": "markdown",
      "source": [
        "## Quickstart\n",
        "\n",
        "Create MCQs just by entering the topic"
      ],
      "metadata": {
        "id": "DNC1XUK54VcX"
      }
    },
    {
      "cell_type": "code",
      "source": [
        "from educhain import qna_engine\n",
        "\n",
        "result = qna_engine.generate_mcq(\n",
        "    topic=\"Indian History\"\n",
        ")\n",
        "\n",
        "result"
      ],
      "metadata": {
        "colab": {
          "base_uri": "https://localhost:8080/"
        },
        "id": "z7WSAw0m45JH",
        "outputId": "cdb95a35-b282-4698-adf5-fc8c166f11e8"
      },
      "execution_count": null,
      "outputs": [
        {
          "output_type": "execute_result",
          "data": {
            "text/plain": [
              "MCQList(questions=[MCQ(question='Who was the first Prime Minister of India?', options=['Jawaharlal Nehru', 'Mahatma Gandhi', 'Sardar Vallabhbhai Patel', 'Subhash Chandra Bose'], correct_answer='Jawaharlal Nehru')])"
            ]
          },
          "metadata": {},
          "execution_count": 3
        }
      ]
    },
    {
      "cell_type": "markdown",
      "source": [
        "You can also pass level and number of questions as an input"
      ],
      "metadata": {
        "id": "KFNs3ZE16bZE"
      }
    },
    {
      "cell_type": "code",
      "source": [
        "from educhain import qna_engine\n",
        "\n",
        "result = qna_engine.generate_mcq(\n",
        "    topic=\"Python Programming\",\n",
        "    level=\"Intermediate\",\n",
        "    num=2\n",
        ")\n",
        "\n",
        "result"
      ],
      "metadata": {
        "colab": {
          "base_uri": "https://localhost:8080/"
        },
        "id": "EwPH6mpd2oi-",
        "outputId": "b7e6d091-1ddc-49f8-fdb1-5b8982afbed0"
      },
      "execution_count": null,
      "outputs": [
        {
          "output_type": "execute_result",
          "data": {
            "text/plain": [
              "MCQList(questions=[MCQ(question='What is the output of 2*3 in Python?', options=['4', '6', '8', '10'], correct_answer='6'), MCQ(question='Which of the following is not a valid data type in Python?', options=['int', 'float', 'char', 'str'], correct_answer='char')])"
            ]
          },
          "metadata": {},
          "execution_count": 4
        }
      ]
    },
    {
      "cell_type": "code",
      "source": [
        "result.show()"
      ],
      "metadata": {
        "colab": {
          "base_uri": "https://localhost:8080/"
        },
        "id": "EGJ8LE8d90Sl",
        "outputId": "5d613a3c-183e-4bbd-a256-2803f153d3c5"
      },
      "execution_count": null,
      "outputs": [
        {
          "output_type": "stream",
          "name": "stdout",
          "text": [
            "MCQs:\n",
            "\n",
            "Question 1:\n",
            "Question: What is the output of 2*3 in Python?\n",
            "Options:\n",
            "  A. 4\n",
            "  B. 6\n",
            "  C. 8\n",
            "  D. 10\n",
            "Correct Answer: 6\n",
            "\n",
            "Question 2:\n",
            "Question: Which of the following is not a valid data type in Python?\n",
            "Options:\n",
            "  A. int\n",
            "  B. float\n",
            "  C. char\n",
            "  D. str\n",
            "Correct Answer: char\n",
            "\n"
          ]
        }
      ]
    },
    {
      "cell_type": "markdown",
      "source": [
        "### Using Custom Prompt Templates\n",
        "\n",
        "You can create your own prompt templates and customize it with various input fields"
      ],
      "metadata": {
        "id": "ruSNPE_I7_YH"
      }
    },
    {
      "cell_type": "code",
      "source": [
        "from educhain import qna_engine\n",
        "\n",
        "custom_template = \"\"\"\n",
        "Generate {num} multiple-choice question (MCQ) based on the given topic and level.\n",
        "Provide the question, four answer options, and the correct answer.\n",
        "\n",
        "Topic: {topic}\n",
        "Learning Objective: {learning_objective}\n",
        "Difficulty Level: {difficulty_level}\n",
        "\"\"\"\n",
        "\n",
        "result = qna_engine.generate_mcq(\n",
        "    topic=\"Python Programming\",\n",
        "    num=2,\n",
        "    learning_objective = \"Usage of Python classes\",\n",
        "    difficulty_level = \"Hard\",\n",
        "    prompt_template=custom_template,\n",
        ")\n",
        "\n",
        "result"
      ],
      "metadata": {
        "colab": {
          "base_uri": "https://localhost:8080/"
        },
        "id": "TCZFFS418Muq",
        "outputId": "efb78abe-843b-4832-d5a6-3312eb491789"
      },
      "execution_count": null,
      "outputs": [
        {
          "output_type": "execute_result",
          "data": {
            "text/plain": [
              "MCQList(questions=[MCQ(question='What is the purpose of using inheritance in Python classes?', options=['To allow a class to inherit attributes and methods from another class', 'To prevent other classes from inheriting from a specific class', 'To restrict the access of attributes and methods to only the class itself', 'To create an instance of a class'], correct_answer='To allow a class to inherit attributes and methods from another class'), MCQ(question='What is method overriding in Python classes?', options=['Defining a new method in the child class that has the same name as a method in the parent class', 'Hiding the implementation of a method in the parent class from the child class', 'Allowing multiple classes to have methods with the same name but different implementations', 'Defining a method in the parent class that can only be accessed by the child class'], correct_answer='Defining a new method in the child class that has the same name as a method in the parent class')])"
            ]
          },
          "metadata": {},
          "execution_count": 6
        }
      ]
    },
    {
      "cell_type": "code",
      "source": [
        "result.show()"
      ],
      "metadata": {
        "colab": {
          "base_uri": "https://localhost:8080/"
        },
        "id": "Dgr14AyJ9-ix",
        "outputId": "65a16cfb-99e4-49ff-e724-371b866ad15d"
      },
      "execution_count": null,
      "outputs": [
        {
          "output_type": "stream",
          "name": "stdout",
          "text": [
            "MCQs:\n",
            "\n",
            "Question 1:\n",
            "Question: What is the purpose of using inheritance in Python classes?\n",
            "Options:\n",
            "  A. To allow a class to inherit attributes and methods from another class\n",
            "  B. To prevent other classes from inheriting from a specific class\n",
            "  C. To restrict the access of attributes and methods to only the class itself\n",
            "  D. To create an instance of a class\n",
            "Correct Answer: To allow a class to inherit attributes and methods from another class\n",
            "\n",
            "Question 2:\n",
            "Question: What is method overriding in Python classes?\n",
            "Options:\n",
            "  A. Defining a new method in the child class that has the same name as a method in the parent class\n",
            "  B. Hiding the implementation of a method in the parent class from the child class\n",
            "  C. Allowing multiple classes to have methods with the same name but different implementations\n",
            "  D. Defining a method in the parent class that can only be accessed by the child class\n",
            "Correct Answer: Defining a new method in the child class that has the same name as a method in the parent class\n",
            "\n"
          ]
        }
      ]
    },
    {
      "cell_type": "markdown",
      "source": [
        "### Using Custom Models\n",
        "\n",
        "You can create a custom response output using Pydantic"
      ],
      "metadata": {
        "id": "a1SZALI_9ZoP"
      }
    },
    {
      "cell_type": "code",
      "source": [
        "  # Custom Model\n",
        "from typing import List, Dict, Any, Optional\n",
        "from pydantic import BaseModel, Field, validator\n",
        "\n",
        "class Optioncustom(BaseModel):\n",
        "    text: str = Field(description=\"The text of the option.\")\n",
        "    correct: str = Field(description=\"Whether the option is correct or not. Either 'true' or 'false'\")\n",
        "\n",
        "\n",
        "class MCQcustom(BaseModel):\n",
        "    question: str = Field(description=\"The quiz question\")\n",
        "    options: List[Optioncustom] = Field(description=\"The possible answers to the question. The list should contain 4 options.\")\n",
        "    explanation: str = Field(default=None, description=\"Explanation of the question\")\n",
        "    blooms_level: str = Field(default=None, description=\"The Bloom's taxonomy level of the question\")\n",
        "    difficulty_level: str = Field(default=None, description=\"The difficulty level of the question. Can be 'easy', 'medium' or 'hard' mapping to the difficulty rating\")\n",
        "    difficulty_rating: int = Field(ge=1, le=5, description=\"The difficulty rating of the question (1-3)\")\n",
        "    metadata: Dict[str, Any] = Field(default={}, description=\"Additional metadata for the question. Like topic, subtopic etc\")\n",
        "\n",
        "    @property\n",
        "    def correct_answer(self):\n",
        "        for option in self.options:\n",
        "            if option.correct.lower() == 'true':\n",
        "                return option.text\n",
        "        return None\n",
        "\n",
        "    def show(self):\n",
        "        options_str = \"\\n\".join(f\"  {chr(65 + i)}. {option.text}\" for i, option in enumerate(self.options))\n",
        "        print(f\"Question: {self.question}\\nOptions:\\n{options_str}\")\n",
        "        print(f\"Correct Answer: {self.correct_answer}\")\n",
        "        print(f\"Explanation: {self.explanation}\")\n",
        "        print(f\"Bloom's Level: {self.blooms_level}\")\n",
        "        print(f\"Difficulty Level: {self.difficulty_level}\")\n",
        "        print(f\"Difficulty Rating: {self.difficulty_rating}\")\n",
        "        print(f\"Metadata: {self.metadata}\\n\")\n",
        "\n",
        "\n",
        "class MCQListcustom(BaseModel):\n",
        "    questions: List[MCQcustom]\n",
        "\n",
        "    def show(self):\n",
        "        print(\"MCQs:\\n\")\n",
        "        for i, mcq in enumerate(self.questions, start=1):\n",
        "            print(f\"Question {i}:\")\n",
        "            mcq.show()"
      ],
      "metadata": {
        "id": "wG2Kgh5k-NPY"
      },
      "execution_count": null,
      "outputs": []
    },
    {
      "cell_type": "code",
      "source": [
        "from educhain import qna_engine\n",
        "\n",
        "result = qna_engine.generate_mcq(\n",
        "    topic=\"Indian Geography\",\n",
        "    num=3,\n",
        "    response_model = MCQListcustom\n",
        ")\n",
        "\n",
        "result"
      ],
      "metadata": {
        "colab": {
          "base_uri": "https://localhost:8080/"
        },
        "id": "LmDjAnZc-cV2",
        "outputId": "6bc85d36-a133-46fd-ae0f-887a533f874f"
      },
      "execution_count": null,
      "outputs": [
        {
          "output_type": "execute_result",
          "data": {
            "text/plain": [
              "MCQListcustom(questions=[MCQcustom(question='Which is the longest river in India?', options=[Optioncustom(text='Ganga', correct='false'), Optioncustom(text='Yamuna', correct='false'), Optioncustom(text='Brahmaputra', correct='true'), Optioncustom(text='Godavari', correct='false')], explanation='The Brahmaputra river is the longest river in India, flowing through Tibet, India, and Bangladesh.', blooms_level='Knowledge', difficulty_level='medium', difficulty_rating=2, metadata={'topic': 'Indian Geography', 'subtopic': 'Rivers'}), MCQcustom(question='Which is the highest mountain peak in India?', options=[Optioncustom(text='Mount Everest', correct='false'), Optioncustom(text='Nanda Devi', correct='true'), Optioncustom(text='Kangchenjunga', correct='false'), Optioncustom(text='Annapurna', correct='false')], explanation='Nanda Devi is the highest mountain peak in India, located in the Garhwal Himalayas.', blooms_level='Understanding', difficulty_level='medium', difficulty_rating=2, metadata={'topic': 'Indian Geography', 'subtopic': 'Mountains'}), MCQcustom(question='Which is the largest saltwater lake in India?', options=[Optioncustom(text='Chilika Lake', correct='false'), Optioncustom(text='Sambhar Lake', correct='true'), Optioncustom(text='Vembanad Lake', correct='false'), Optioncustom(text='Wular Lake', correct='false')], explanation='Sambhar Lake in Rajasthan is the largest saltwater lake in India.', blooms_level='Application', difficulty_level='easy', difficulty_rating=1, metadata={'topic': 'Indian Geography', 'subtopic': 'Lakes'})])"
            ]
          },
          "metadata": {},
          "execution_count": 9
        }
      ]
    },
    {
      "cell_type": "code",
      "source": [
        "result.show()"
      ],
      "metadata": {
        "colab": {
          "base_uri": "https://localhost:8080/"
        },
        "id": "DvELP4kIAEXy",
        "outputId": "9e577638-7b51-40de-93e5-29efc2803c35"
      },
      "execution_count": null,
      "outputs": [
        {
          "output_type": "stream",
          "name": "stdout",
          "text": [
            "MCQs:\n",
            "\n",
            "Question 1:\n",
            "Question: Which is the largest state in India by area?\n",
            "Options:\n",
            "  A. Uttar Pradesh\n",
            "  B. Rajasthan\n",
            "  C. Madhya Pradesh\n",
            "  D. Maharashtra\n",
            "Correct Answer: Rajasthan\n",
            "Explanation: Rajasthan is the largest state in India by area covering around 10.4% of the country's total area.\n",
            "Bloom's Level: Knowledge\n",
            "Difficulty Level: easy\n",
            "Difficulty Rating: 1\n",
            "Metadata: {'topic': 'Indian Geography', 'subtopic': 'States of India'}\n",
            "\n",
            "Question 2:\n",
            "Question: Which river is known as the 'Ganga of the South'?\n",
            "Options:\n",
            "  A. Yamuna\n",
            "  B. Godavari\n",
            "  C. Krishna\n",
            "  D. Kaveri\n",
            "Correct Answer: Godavari\n",
            "Explanation: Godavari river is often referred to as the 'Ganga of the South' due to its importance and length.\n",
            "Bloom's Level: Comprehension\n",
            "Difficulty Level: medium\n",
            "Difficulty Rating: 2\n",
            "Metadata: {'topic': 'Indian Geography', 'subtopic': 'Rivers of India'}\n",
            "\n",
            "Question 3:\n",
            "Question: Which is the highest mountain peak in India?\n",
            "Options:\n",
            "  A. Kangchenjunga\n",
            "  B. Nanda Devi\n",
            "  C. Mount Everest\n",
            "  D. Anamudi\n",
            "Correct Answer: Kangchenjunga\n",
            "Explanation: Kangchenjunga is the highest mountain peak in India and the third highest in the world.\n",
            "Bloom's Level: Application\n",
            "Difficulty Level: hard\n",
            "Difficulty Rating: 3\n",
            "Metadata: {'topic': 'Indian Geography', 'subtopic': 'Mountain Peaks in India'}\n",
            "\n"
          ]
        }
      ]
    },
    {
      "cell_type": "markdown",
      "source": [
        "Using Custom Response Models with Custom Prompts"
      ],
      "metadata": {
        "id": "Q_uLwpo6-1eh"
      }
    },
    {
      "cell_type": "code",
      "source": [
        "from educhain import qna_engine\n",
        "\n",
        "custom_template = \"\"\"\n",
        "Generate {num} multiple-choice question (MCQ) based on the given topic and level.\n",
        "Provide the question, four answer options, and the correct answer.\n",
        "\n",
        "Topic: {topic}\n",
        "Difficulty Level: {difficulty_level}\n",
        "Learning Objective: {learning_objective}\n",
        "\"\"\"\n",
        "\n",
        "result = qna_engine.generate_mcq(\n",
        "    topic=\"Python Programming\",\n",
        "    num=2,\n",
        "    difficulty_level = \"Very hard\",\n",
        "    learning_objective = \"Python classes\",\n",
        "    prompt_template=custom_template,\n",
        "    response_model = MCQListcustom\n",
        ")\n",
        "\n",
        "result"
      ],
      "metadata": {
        "colab": {
          "base_uri": "https://localhost:8080/"
        },
        "id": "1X1VsYxf2Yww",
        "outputId": "406a9363-b70b-4ef6-a8c0-260acde6c5d4"
      },
      "execution_count": null,
      "outputs": [
        {
          "output_type": "execute_result",
          "data": {
            "text/plain": [
              "MCQListcustom(questions=[MCQcustom(question=\"What is the purpose of 'self' parameter in Python class methods?\", options=[Optioncustom(text='To refer to the class itself', correct='false'), Optioncustom(text='To refer to the current instance of the class', correct='true'), Optioncustom(text='To create a new instance of the class', correct='false'), Optioncustom(text='To access class variables directly', correct='false')], explanation=\"The 'self' parameter in Python class methods is used to refer to the current instance of the class.\", blooms_level='Apply', difficulty_level='very hard', difficulty_rating=5, metadata={'topic': 'Python Programming', 'subtopic': 'Python classes'}), MCQcustom(question=\"What is the purpose of 'super()' function in Python classes?\", options=[Optioncustom(text='To call the superclass constructor', correct='true'), Optioncustom(text='To create an instance of the superclass', correct='false'), Optioncustom(text='To inherit all properties from the superclass', correct='false'), Optioncustom(text='To access class methods of superclass directly', correct='false')], explanation=\"The 'super()' function in Python classes is used to call the constructor of the superclass.\", blooms_level='Evaluate', difficulty_level='very hard', difficulty_rating=5, metadata={'topic': 'Python Programming', 'subtopic': 'Python classes'})])"
            ]
          },
          "metadata": {},
          "execution_count": 32
        }
      ]
    },
    {
      "cell_type": "code",
      "source": [
        "result.show()"
      ],
      "metadata": {
        "colab": {
          "base_uri": "https://localhost:8080/"
        },
        "id": "0sAl4auM3VP6",
        "outputId": "389c332c-112a-4d5f-eab5-e5b069b78707"
      },
      "execution_count": null,
      "outputs": [
        {
          "output_type": "stream",
          "name": "stdout",
          "text": [
            "MCQs:\n",
            "\n",
            "Question 1:\n",
            "Question: What is the purpose of 'self' parameter in Python class methods?\n",
            "Options:\n",
            "  A. To refer to the class itself\n",
            "  B. To refer to the current instance of the class\n",
            "  C. To create a new instance of the class\n",
            "  D. To access class variables directly\n",
            "Correct Answer: To refer to the current instance of the class\n",
            "Explanation: The 'self' parameter in Python class methods is used to refer to the current instance of the class.\n",
            "Bloom's Level: Apply\n",
            "Difficulty Level: very hard\n",
            "Difficulty Rating: 5\n",
            "Metadata: {'topic': 'Python Programming', 'subtopic': 'Python classes'}\n",
            "\n",
            "Question 2:\n",
            "Question: What is the purpose of 'super()' function in Python classes?\n",
            "Options:\n",
            "  A. To call the superclass constructor\n",
            "  B. To create an instance of the superclass\n",
            "  C. To inherit all properties from the superclass\n",
            "  D. To access class methods of superclass directly\n",
            "Correct Answer: To call the superclass constructor\n",
            "Explanation: The 'super()' function in Python classes is used to call the constructor of the superclass.\n",
            "Bloom's Level: Evaluate\n",
            "Difficulty Level: very hard\n",
            "Difficulty Rating: 5\n",
            "Metadata: {'topic': 'Python Programming', 'subtopic': 'Python classes'}\n",
            "\n"
          ]
        }
      ]
    },
    {
      "cell_type": "markdown",
      "source": [
        "### Using Different LLMs\n",
        "\n",
        "Switch from OpenAI to any other LLM using ChatOpenAI"
      ],
      "metadata": {
        "id": "D8O_s7tyANIn"
      }
    },
    {
      "cell_type": "code",
      "source": [
        "from langchain_openai import ChatOpenAI\n",
        "from google.colab import userdata\n",
        "\n",
        "llama3_groq = ChatOpenAI(\n",
        "    model = \"llama3-70b-8192\",\n",
        "    openai_api_base = \"https://api.groq.com/openai/v1\",\n",
        "    openai_api_key = userdata.get(\"GROQ_API_KEY\")\n",
        ")"
      ],
      "metadata": {
        "id": "uSzdmszj_RH_"
      },
      "execution_count": null,
      "outputs": []
    },
    {
      "cell_type": "code",
      "source": [
        "from educhain import qna_engine\n",
        "\n",
        "result = qna_engine.generate_mcq(\n",
        "    topic=\"Chess\",\n",
        "    level=\"Hard\",\n",
        "    num=5,\n",
        "    llm = llama3_groq\n",
        ")\n",
        "\n",
        "result"
      ],
      "metadata": {
        "colab": {
          "base_uri": "https://localhost:8080/"
        },
        "id": "ut2Q-uBTAevA",
        "outputId": "ba654789-0ae3-4eac-d195-219582112454"
      },
      "execution_count": null,
      "outputs": [
        {
          "output_type": "execute_result",
          "data": {
            "text/plain": [
              "MCQList(questions=[MCQ(question='What is the objective of the game of Chess?', options=[\"To capture the opponent's king\", \"To checkmate the opponent's queen\", 'To promote all pawns to queens', 'To castle at least once'], correct_answer=\"To capture the opponent's king\"), MCQ(question='Which piece can move in an L-shape?', options=['Knight', 'Bishop', 'Rook', 'Pawn'], correct_answer='Knight'), MCQ(question='What is the special move called when a pawn reaches the opposite side of the board?', options=['Castling', 'En passant', 'Promotion', 'Checkmate'], correct_answer='Promotion'), MCQ(question='Which piece is the most powerful on the board?', options=['Queen', 'King', 'Rook', 'Bishop'], correct_answer='Queen'), MCQ(question='What is the term for a pawn that has no opposing pawn on the same file?', options=['Passed pawn', 'Blocked pawn', 'Isolated pawn', 'Doubled pawn'], correct_answer='Passed pawn')])"
            ]
          },
          "metadata": {},
          "execution_count": 35
        }
      ]
    },
    {
      "cell_type": "code",
      "source": [
        "result.show()"
      ],
      "metadata": {
        "colab": {
          "base_uri": "https://localhost:8080/"
        },
        "id": "Uyn5XhPtAsN8",
        "outputId": "7d08af1c-a621-443a-edcf-70403494ddcb"
      },
      "execution_count": null,
      "outputs": [
        {
          "output_type": "stream",
          "name": "stdout",
          "text": [
            "MCQs:\n",
            "\n",
            "Question 1:\n",
            "Question: What is the objective of the game of Chess?\n",
            "Options:\n",
            "  A. To capture the opponent's king\n",
            "  B. To checkmate the opponent's queen\n",
            "  C. To promote all pawns to queens\n",
            "  D. To castle at least once\n",
            "Correct Answer: To capture the opponent's king\n",
            "\n",
            "Question 2:\n",
            "Question: Which piece can move in an L-shape?\n",
            "Options:\n",
            "  A. Knight\n",
            "  B. Bishop\n",
            "  C. Rook\n",
            "  D. Pawn\n",
            "Correct Answer: Knight\n",
            "\n",
            "Question 3:\n",
            "Question: What is the special move called when a pawn reaches the opposite side of the board?\n",
            "Options:\n",
            "  A. Castling\n",
            "  B. En passant\n",
            "  C. Promotion\n",
            "  D. Checkmate\n",
            "Correct Answer: Promotion\n",
            "\n",
            "Question 4:\n",
            "Question: Which piece is the most powerful on the board?\n",
            "Options:\n",
            "  A. Queen\n",
            "  B. King\n",
            "  C. Rook\n",
            "  D. Bishop\n",
            "Correct Answer: Queen\n",
            "\n",
            "Question 5:\n",
            "Question: What is the term for a pawn that has no opposing pawn on the same file?\n",
            "Options:\n",
            "  A. Passed pawn\n",
            "  B. Blocked pawn\n",
            "  C. Isolated pawn\n",
            "  D. Doubled pawn\n",
            "Correct Answer: Passed pawn\n",
            "\n"
          ]
        }
      ]
    },
    {
      "cell_type": "markdown",
      "source": [
        "### Export questions to PDF, CSV, etc\n",
        "\n",
        "Download the questions in your desired format"
      ],
      "metadata": {
        "id": "MPQ3mO6LA41-"
      }
    },
    {
      "cell_type": "code",
      "source": [
        "from educhain import qna_engine, to_pdf, to_csv\n",
        "\n",
        "questions = qna_engine.generate_mcq(topic = \"Gravitation\",\n",
        "                                    level = \"Intermediate\",\n",
        "                                    num = 10\n",
        "                                    )\n",
        "\n",
        "questions.show()\n",
        "to_pdf(questions, file_name = \"gravitation.pdf\")"
      ],
      "metadata": {
        "colab": {
          "base_uri": "https://localhost:8080/"
        },
        "id": "ImqNeWR9A4Zt",
        "outputId": "54ae1250-c369-4676-e90e-416c6818cbf5"
      },
      "execution_count": null,
      "outputs": [
        {
          "output_type": "stream",
          "name": "stdout",
          "text": [
            "MCQs:\n",
            "\n",
            "Question 1:\n",
            "Question: What is the force that attracts two objects towards each other?\n",
            "Options:\n",
            "  A. Magnetic force\n",
            "  B. Electrostatic force\n",
            "  C. Gravitational force\n",
            "  D. Frictional force\n",
            "Correct Answer: Gravitational force\n",
            "\n",
            "Question 2:\n",
            "Question: Who formulated the law of universal gravitation?\n",
            "Options:\n",
            "  A. Isaac Newton\n",
            "  B. Albert Einstein\n",
            "  C. Galileo Galilei\n",
            "  D. Johannes Kepler\n",
            "Correct Answer: Isaac Newton\n",
            "\n",
            "Question 3:\n",
            "Question: Which of the following factors does not affect the gravitational force between two objects?\n",
            "Options:\n",
            "  A. Mass of the objects\n",
            "  B. Distance between the objects\n",
            "  C. Electric charge of the objects\n",
            "  D. Gravitational constant\n",
            "Correct Answer: Electric charge of the objects\n",
            "\n",
            "Question 4:\n",
            "Question: What happens to the gravitational force between two objects if the distance between them is doubled?\n",
            "Options:\n",
            "  A. It becomes half\n",
            "  B. It becomes one-fourth\n",
            "  C. It remains the same\n",
            "  D. It doubles\n",
            "Correct Answer: It becomes one-fourth\n",
            "\n",
            "Question 5:\n",
            "Question: At what point in space is the gravitational force experienced by an object zero?\n",
            "Options:\n",
            "  A. At the center of the Earth\n",
            "  B. At the surface of the Earth\n",
            "  C. At infinity\n",
            "  D. At the poles of the Earth\n",
            "Correct Answer: At infinity\n",
            "\n",
            "Question 6:\n",
            "Question: Which of the following planets has the strongest gravitational pull?\n",
            "Options:\n",
            "  A. Mercury\n",
            "  B. Mars\n",
            "  C. Venus\n",
            "  D. Jupiter\n",
            "Correct Answer: Jupiter\n",
            "\n",
            "Question 7:\n",
            "Question: What is the SI unit of gravitational force?\n",
            "Options:\n",
            "  A. Newton\n",
            "  B. Kilogram\n",
            "  C. Joule\n",
            "  D. Pascal\n",
            "Correct Answer: Newton\n",
            "\n",
            "Question 8:\n",
            "Question: The weight of an object is the measure of which force?\n",
            "Options:\n",
            "  A. Gravitational force\n",
            "  B. Magnetic force\n",
            "  C. Frictional force\n",
            "  D. Tension force\n",
            "Correct Answer: Gravitational force\n",
            "\n",
            "Question 9:\n",
            "Question: What is the direction of the gravitational force between two objects?\n",
            "Options:\n",
            "  A. Always attractive\n",
            "  B. Always repulsive\n",
            "  C. Can be both attractive and repulsive\n",
            "  D. Depends on the mass of the objects\n",
            "Correct Answer: Always attractive\n",
            "\n",
            "Question 10:\n",
            "Question: Which scientist proposed the concept of escape velocity?\n",
            "Options:\n",
            "  A. Isaac Newton\n",
            "  B. Albert Einstein\n",
            "  C. Galileo Galilei\n",
            "  D. Johannes Kepler\n",
            "Correct Answer: Isaac Newton\n",
            "\n"
          ]
        }
      ]
    },
    {
      "cell_type": "code",
      "source": [
        "from educhain import qna_engine, to_csv\n",
        "\n",
        "questions = qna_engine.generate_mcq(topic = \"Philosophy\",\n",
        "                                    level = \"Tough\",\n",
        "                                    num = 5\n",
        "                                    )\n",
        "\n",
        "questions.show()\n",
        "to_csv(questions, file_name = \"philosophy.csv\")"
      ],
      "metadata": {
        "colab": {
          "base_uri": "https://localhost:8080/"
        },
        "id": "nzV2MdmmAuu2",
        "outputId": "0e16edb4-cb7f-48e2-b6e2-545756afb90e"
      },
      "execution_count": null,
      "outputs": [
        {
          "output_type": "stream",
          "name": "stdout",
          "text": [
            "MCQs:\n",
            "\n",
            "Question 1:\n",
            "Question: Who is considered the father of Western philosophy?\n",
            "Options:\n",
            "  A. Socrates\n",
            "  B. Aristotle\n",
            "  C. Plato\n",
            "  D. Heraclitus\n",
            "Correct Answer: Socrates\n",
            "\n",
            "Question 2:\n",
            "Question: Which philosopher is known for his work 'Meditations'?\n",
            "Options:\n",
            "  A. Descartes\n",
            "  B. Kant\n",
            "  C. Hume\n",
            "  D. Nietzsche\n",
            "Correct Answer: Descartes\n",
            "\n",
            "Question 3:\n",
            "Question: What is the famous philosophical principle 'Cogito, ergo sum' translated to in English?\n",
            "Options:\n",
            "  A. I think, therefore I am\n",
            "  B. God is dead\n",
            "  C. The unexamined life is not worth living\n",
            "  D. Do unto others as you would have them do unto you\n",
            "Correct Answer: I think, therefore I am\n",
            "\n",
            "Question 4:\n",
            "Question: Which school of philosophy emphasizes the importance of reason and rationality?\n",
            "Options:\n",
            "  A. Stoicism\n",
            "  B. Existentialism\n",
            "  C. Nihilism\n",
            "  D. Empiricism\n",
            "Correct Answer: Stoicism\n",
            "\n",
            "Question 5:\n",
            "Question: Who wrote the famous work 'Beyond Good and Evil'?\n",
            "Options:\n",
            "  A. Kierkegaard\n",
            "  B. Marx\n",
            "  C. Nietzsche\n",
            "  D. Camus\n",
            "Correct Answer: Nietzsche\n",
            "\n"
          ]
        }
      ]
    },
    {
      "cell_type": "code",
      "source": [
        "from educhain import qna_engine, to_json\n",
        "\n",
        "questions = qna_engine.generate_mcq(topic = \"Philosophy\",\n",
        "                                    level = \"Tough\",\n",
        "                                    num = 5\n",
        "                                    )\n",
        "\n",
        "questions.show()\n",
        "to_json(questions, file_name = \"philosophy.json\")"
      ],
      "metadata": {
        "id": "u8eK8URSBiVj",
        "colab": {
          "base_uri": "https://localhost:8080/"
        },
        "outputId": "72f07ccd-c50e-4e8c-9fe4-1cc717a417f2"
      },
      "execution_count": null,
      "outputs": [
        {
          "output_type": "stream",
          "name": "stdout",
          "text": [
            "MCQs:\n",
            "\n",
            "Question 1:\n",
            "Question: Who is considered the father of Western philosophy?\n",
            "Options:\n",
            "  A. Socrates\n",
            "  B. Plato\n",
            "  C. Aristotle\n",
            "  D. Pythagoras\n",
            "Correct Answer: Socrates\n",
            "\n",
            "Question 2:\n",
            "Question: What is the famous philosophical statement by Descartes?\n",
            "Options:\n",
            "  A. I think, therefore I am\n",
            "  B. Cogito ergo sum\n",
            "  C. Carpe diem\n",
            "  D. Eureka\n",
            "Correct Answer: Cogito ergo sum\n",
            "\n",
            "Question 3:\n",
            "Question: Which philosophical concept refers to the belief that everything has a purpose?\n",
            "Options:\n",
            "  A. Existentialism\n",
            "  B. Nihilism\n",
            "  C. Determinism\n",
            "  D. Teleology\n",
            "Correct Answer: Teleology\n",
            "\n",
            "Question 4:\n",
            "Question: Who wrote the famous work 'Beyond Good and Evil'?\n",
            "Options:\n",
            "  A. Friedrich Nietzsche\n",
            "  B. Immanuel Kant\n",
            "  C. Jean-Paul Sartre\n",
            "  D. John Locke\n",
            "Correct Answer: Friedrich Nietzsche\n",
            "\n",
            "Question 5:\n",
            "Question: Which Greek philosopher is known for his teachings on ethics and virtue?\n",
            "Options:\n",
            "  A. Socrates\n",
            "  B. Plato\n",
            "  C. Aristotle\n",
            "  D. Epicurus\n",
            "Correct Answer: Aristotle\n",
            "\n"
          ]
        },
        {
          "output_type": "execute_result",
          "data": {
            "text/plain": [
              "[{'question': 'Who is considered the father of Western philosophy?',\n",
              "  'options': ['Socrates', 'Plato', 'Aristotle', 'Pythagoras'],\n",
              "  'correct_answer': 'Socrates'},\n",
              " {'question': 'What is the famous philosophical statement by Descartes?',\n",
              "  'options': ['I think, therefore I am',\n",
              "   'Cogito ergo sum',\n",
              "   'Carpe diem',\n",
              "   'Eureka'],\n",
              "  'correct_answer': 'Cogito ergo sum'},\n",
              " {'question': 'Which philosophical concept refers to the belief that everything has a purpose?',\n",
              "  'options': ['Existentialism', 'Nihilism', 'Determinism', 'Teleology'],\n",
              "  'correct_answer': 'Teleology'},\n",
              " {'question': \"Who wrote the famous work 'Beyond Good and Evil'?\",\n",
              "  'options': ['Friedrich Nietzsche',\n",
              "   'Immanuel Kant',\n",
              "   'Jean-Paul Sartre',\n",
              "   'John Locke'],\n",
              "  'correct_answer': 'Friedrich Nietzsche'},\n",
              " {'question': 'Which Greek philosopher is known for his teachings on ethics and virtue?',\n",
              "  'options': ['Socrates', 'Plato', 'Aristotle', 'Epicurus'],\n",
              "  'correct_answer': 'Aristotle'}]"
            ]
          },
          "metadata": {},
          "execution_count": 10
        }
      ]
    },
    {
      "cell_type": "code",
      "source": [],
      "metadata": {
        "id": "NsSdWLJXI9og"
      },
      "execution_count": null,
      "outputs": []
    }
  ]
}