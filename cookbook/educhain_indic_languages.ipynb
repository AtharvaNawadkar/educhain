{
  "nbformat": 4,
  "nbformat_minor": 0,
  "metadata": {
    "colab": {
      "provenance": []
    },
    "kernelspec": {
      "name": "python3",
      "display_name": "Python 3"
    },
    "language_info": {
      "name": "python"
    }
  },
  "cells": [
    {
      "cell_type": "markdown",
      "source": [
        "[![Open In Colab](https://colab.research.google.com/assets/colab-badge.svg)](https://colab.research.google.com/drive/1o0hD0sn_z9ybGmTxK92LPdiAjoFOzxSj?usp=sharing)"
      ],
      "metadata": {
        "id": "RFrL1UWqTL97"
      }
    },
    {
      "cell_type": "markdown",
      "source": [
        "# educhain\n",
        "\n",
        "\n",
        "[Educhain](https://github.com/satvik314/educhain) is a python package for generating educational content using Generative AI.\n",
        "\n",
        "\n",
        "In this notebook, we show you how to generate questions in multiple languages in <10 lines of code."
      ],
      "metadata": {
        "id": "0B9ZpyqBTRWx"
      }
    },
    {
      "cell_type": "code",
      "execution_count": null,
      "metadata": {
        "colab": {
          "base_uri": "https://localhost:8080/"
        },
        "id": "AWjdqfcUUs0D",
        "outputId": "54e2ee08-3a0e-4af2-f9dd-6a320d44d90a"
      },
      "outputs": [
        {
          "output_type": "stream",
          "name": "stdout",
          "text": [
            "\u001b[2K     \u001b[90m━━━━━━━━━━━━━━━━━━━━━━━━━━━━━━━━━━━━━━━━\u001b[0m \u001b[32m973.5/973.5 kB\u001b[0m \u001b[31m7.5 MB/s\u001b[0m eta \u001b[36m0:00:00\u001b[0m\n",
            "\u001b[2K     \u001b[90m━━━━━━━━━━━━━━━━━━━━━━━━━━━━━━━━━━━━━━━━\u001b[0m \u001b[32m2.1/2.1 MB\u001b[0m \u001b[31m34.8 MB/s\u001b[0m eta \u001b[36m0:00:00\u001b[0m\n",
            "\u001b[2K     \u001b[90m━━━━━━━━━━━━━━━━━━━━━━━━━━━━━━━━━━━━━━━━\u001b[0m \u001b[32m320.6/320.6 kB\u001b[0m \u001b[31m20.9 MB/s\u001b[0m eta \u001b[36m0:00:00\u001b[0m\n",
            "\u001b[2K     \u001b[90m━━━━━━━━━━━━━━━━━━━━━━━━━━━━━━━━━━━━━━━━\u001b[0m \u001b[32m1.9/1.9 MB\u001b[0m \u001b[31m29.2 MB/s\u001b[0m eta \u001b[36m0:00:00\u001b[0m\n",
            "\u001b[2K     \u001b[90m━━━━━━━━━━━━━━━━━━━━━━━━━━━━━━━━━━━━━━━━\u001b[0m \u001b[32m308.5/308.5 kB\u001b[0m \u001b[31m8.2 MB/s\u001b[0m eta \u001b[36m0:00:00\u001b[0m\n",
            "\u001b[2K     \u001b[90m━━━━━━━━━━━━━━━━━━━━━━━━━━━━━━━━━━━━━━━━\u001b[0m \u001b[32m122.8/122.8 kB\u001b[0m \u001b[31m3.8 MB/s\u001b[0m eta \u001b[36m0:00:00\u001b[0m\n",
            "\u001b[2K     \u001b[90m━━━━━━━━━━━━━━━━━━━━━━━━━━━━━━━━━━━━━━━━\u001b[0m \u001b[32m1.1/1.1 MB\u001b[0m \u001b[31m43.2 MB/s\u001b[0m eta \u001b[36m0:00:00\u001b[0m\n",
            "\u001b[2K     \u001b[90m━━━━━━━━━━━━━━━━━━━━━━━━━━━━━━━━━━━━━━━━\u001b[0m \u001b[32m75.6/75.6 kB\u001b[0m \u001b[31m6.6 MB/s\u001b[0m eta \u001b[36m0:00:00\u001b[0m\n",
            "\u001b[2K     \u001b[90m━━━━━━━━━━━━━━━━━━━━━━━━━━━━━━━━━━━━━━━━\u001b[0m \u001b[32m49.3/49.3 kB\u001b[0m \u001b[31m3.7 MB/s\u001b[0m eta \u001b[36m0:00:00\u001b[0m\n",
            "\u001b[2K     \u001b[90m━━━━━━━━━━━━━━━━━━━━━━━━━━━━━━━━━━━━━━━━\u001b[0m \u001b[32m77.9/77.9 kB\u001b[0m \u001b[31m8.2 MB/s\u001b[0m eta \u001b[36m0:00:00\u001b[0m\n",
            "\u001b[2K     \u001b[90m━━━━━━━━━━━━━━━━━━━━━━━━━━━━━━━━━━━━━━━━\u001b[0m \u001b[32m58.3/58.3 kB\u001b[0m \u001b[31m6.1 MB/s\u001b[0m eta \u001b[36m0:00:00\u001b[0m\n",
            "\u001b[2K     \u001b[90m━━━━━━━━━━━━━━━━━━━━━━━━━━━━━━━━━━━━━━━━\u001b[0m \u001b[32m53.0/53.0 kB\u001b[0m \u001b[31m4.7 MB/s\u001b[0m eta \u001b[36m0:00:00\u001b[0m\n",
            "\u001b[2K     \u001b[90m━━━━━━━━━━━━━━━━━━━━━━━━━━━━━━━━━━━━━━━━\u001b[0m \u001b[32m142.5/142.5 kB\u001b[0m \u001b[31m5.7 MB/s\u001b[0m eta \u001b[36m0:00:00\u001b[0m\n",
            "\u001b[?25h"
          ]
        }
      ],
      "source": [
        "!pip install -qU educhain"
      ]
    },
    {
      "cell_type": "code",
      "source": [
        "import os\n",
        "from google.colab import userdata\n",
        "\n",
        "os.environ[\"OPENAI_API_KEY\"] = userdata.get('OPENAI_API_KEY')"
      ],
      "metadata": {
        "id": "NIe13AkdVi7r"
      },
      "execution_count": null,
      "outputs": []
    },
    {
      "cell_type": "code",
      "source": [
        "## Generate questions in English\n",
        "\n",
        "from educhain import qna_engine\n",
        "\n",
        "result = qna_engine.generate_mcq(\n",
        "    topic=\"Python Programming\",\n",
        "    num=3,\n",
        ")\n",
        "\n",
        "result.show()"
      ],
      "metadata": {
        "id": "wndavn9qU2bA"
      },
      "execution_count": null,
      "outputs": []
    },
    {
      "cell_type": "code",
      "source": [
        "## Generate questions in Hindi\n",
        "\n",
        "from educhain import qna_engine\n",
        "\n",
        "custom_template = \"\"\"\n",
        "दिए गए विषय और स्तर के आधार पर {num} बहुविकल्पीय प्रश्न (MCQ) उत्पन्न करें। प्रश्न, चार उत्तर विकल्प और सही उत्तर प्रदान करें।\n",
        "विषय: {topic}\n",
        "\n",
        "Generate questions in hindi.\n",
        "\"\"\"\n",
        "\n",
        "gpt_4o = ChatOpenAI(model= \"gpt-4o\")\n",
        "\n",
        "result = qna_engine.generate_mcq(\n",
        "                                  topic=\"भारतीय भूगोल\",\n",
        "                                  num=3,\n",
        "                                  llm = gpt_4o,\n",
        "                                  prompt_template=custom_template\n",
        "                                  )\n",
        "\n",
        "result.show()"
      ],
      "metadata": {
        "colab": {
          "base_uri": "https://localhost:8080/"
        },
        "id": "AdvzoTBQVMOK",
        "outputId": "8261357b-af41-4ae7-bd6d-ac8a337ce0dd"
      },
      "execution_count": null,
      "outputs": [
        {
          "output_type": "stream",
          "name": "stdout",
          "text": [
            "MCQs:\n",
            "\n",
            "Question 1:\n",
            "Question: भारत का सबसे ऊँचा पर्वत कौन सा है?\n",
            "Options:\n",
            "  A. एवरेस्ट\n",
            "  B. कांचनजंघा\n",
            "  C. धौलागिरी\n",
            "  D. नंदादेवी\n",
            "Correct Answer: एवरेस्ट\n",
            "Explanation: माउंट एवरेस्ट, महालंगुर हिमाल श्रृंगमालामा अवस्थित एक पर्वत हो।\n",
            "\n",
            "Question 2:\n",
            "Question: भारत की सबसे लम्बी नदी कौन सी है?\n",
            "Options:\n",
            "  A. यमुना\n",
            "  B. गंगा\n",
            "  C. कृष्णा\n",
            "  D. ब्रह्मपुत्र\n",
            "Correct Answer: गंगा\n",
            "Explanation: गंगा नदी भारत की सबसे लम्बी नदी है जो गढ़वाल से लेकर बंगाल की खाड़ी में मिलती है।\n",
            "\n",
            "Question 3:\n",
            "Question: भारत का सबसे बड़ा झील कौन सी है?\n",
            "Options:\n",
            "  A. चिल्का झील\n",
            "  B. सांबर झील\n",
            "  C. वुलर झील\n",
            "  D. लोनार झील\n",
            "Correct Answer: चिल्का झील\n",
            "Explanation: चिल्का झील भारत की सबसे बड़ी झील है जो उड़ीसा राज्य में स्थित है।\n",
            "\n"
          ]
        }
      ]
    },
    {
      "cell_type": "code",
      "source": [
        "## Generate questions in Telugu\n",
        "\n",
        "from educhain import qna_engine\n",
        "\n",
        "custom_template = \"\"\"\n",
        "ఇచ్చిన అంశం మరియు స్థాయిని బట్టి {num} బహుళ ఎంపిక ప్రశ్నలు (MCQ) రూపొందించండి. ప్రశ్న, నాలుగు సమాధాన ఎంపికలు మరియు సరైన సమాధానాన్ని అందించండి.\n",
        "అంశం: {topic}\n",
        "ప్రశ్నలను తెలుగులో రూపొందించండి.\n",
        "\"\"\"\n",
        "\n",
        "gpt_4o = ChatOpenAI(model= \"gpt-4o\")\n",
        "\n",
        "result = qna_engine.generate_mcq(\n",
        "                                  topic=\"భారతదేశ భౌగోళికం\",\n",
        "                                  num=3,\n",
        "                                  llm = gpt_4o,\n",
        "                                  prompt_template=custom_template,\n",
        "                                  )\n",
        "\n",
        "result.show()"
      ],
      "metadata": {
        "colab": {
          "base_uri": "https://localhost:8080/"
        },
        "id": "Xn_C7-76WwUk",
        "outputId": "dcf39b99-aaff-441d-f3e5-0f234b368bb4"
      },
      "execution_count": null,
      "outputs": [
        {
          "output_type": "stream",
          "name": "stdout",
          "text": [
            "MCQs:\n",
            "\n",
            "Question 1:\n",
            "Question: భారతదేశంలో అధిక వస్తువులు కోసం ప్రముఖ స్థలం ఏమిటి?\n",
            "Options:\n",
            "  A. దిల్లీ\n",
            "  B. ముంబయి\n",
            "  C. కొల్కతా\n",
            "  D. చెన్నై\n",
            "Correct Answer: దిల్లీ\n",
            "Explanation: దిల్లీ భారతదేశంలో అధిక వస్తువులు కోసం ప్రముఖ స్థలం.\n",
            "\n",
            "Question 2:\n",
            "Question: భారతదేశంలో అత్యధిక సంఖ్యలో ముఖ్య ధర్మాలు ఏది?\n",
            "Options:\n",
            "  A. హిందూధర్మం\n",
            "  B. ఇస్లాం\n",
            "  C. క్రైస్తవధర్మం\n",
            "  D. బౌద్ధధర్మం\n",
            "Correct Answer: హిందూధర్మం\n",
            "Explanation: భారతదేశంలో అత్యధిక సంఖ్యలో ముఖ్య ధర్మం హిందూధర్మం.\n",
            "\n",
            "Question 3:\n",
            "Question: భారతదేశంలో అత్యధిక ప్రసిద్ధి దొరికిన భక్తిపాత్రం ఎవరు?\n",
            "Options:\n",
            "  A. మహాత్మా గాంధీ\n",
            "  B. స్వామీ వివేకానంద\n",
            "  C. శ్రీ రామకృష్ణ పరమహంస\n",
            "  D. శ్రీ శిరిడీ సాయి బాబా\n",
            "Correct Answer: శ్రీ శిరిడీ సాయి బాబా\n",
            "Explanation: భారతదేశంలో అత్యధిక ప్రసిద్ధి దొరికిన భక్తిపాత్రం శ్రీ శిరిడీ సాయి బాబా.\n",
            "\n"
          ]
        }
      ]
    }
  ]
}