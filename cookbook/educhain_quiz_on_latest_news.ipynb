{
  "nbformat": 4,
  "nbformat_minor": 0,
  "metadata": {
    "colab": {
      "provenance": []
    },
    "kernelspec": {
      "name": "python3",
      "display_name": "Python 3"
    },
    "language_info": {
      "name": "python"
    }
  },
  "cells": [
    {
      "cell_type": "markdown",
      "source": [
        "## Generating MCQs on Latest News"
      ],
      "metadata": {
        "id": "K3OpxF6KTf5W"
      }
    },
    {
      "cell_type": "markdown",
      "source": [
        "This Colab notebook demonstrates how to generate multiple-choice questions (MCQs)\n",
        "based on the latest news using AI-powered tools.\n",
        "\n",
        "Key features:\n",
        "1. Fetches recent news on a specified topic using Perplexity's Sonar API\n",
        "2. Generates MCQs from the fetched news content using Educhain's qna_engine\n",
        "3. Customizable number of questions and topic selection\n"
      ],
      "metadata": {
        "id": "gqUYIUkVw8-w"
      }
    },
    {
      "cell_type": "markdown",
      "source": [
        "[![Open In Colab](https://colab.research.google.com/assets/colab-badge.svg)](https://colab.research.google.com/drive/1G_-EeSa7d5uLYmrlIt4B4QQVpbciZU3H?usp=sharing)"
      ],
      "metadata": {
        "id": "Wo6WLPxvU0og"
      }
    },
    {
      "cell_type": "code",
      "execution_count": 8,
      "metadata": {
        "id": "5P_SfI0SNKfF"
      },
      "outputs": [],
      "source": [
        "!pip install -qU educhain"
      ]
    },
    {
      "cell_type": "code",
      "source": [
        "import os\n",
        "from google.colab import userdata\n",
        "\n",
        "os.environ[\"OPENAI_API_KEY\"] = userdata.get('OPENAI_API_KEY')"
      ],
      "metadata": {
        "id": "yzzBu9RWPT8p"
      },
      "execution_count": 3,
      "outputs": []
    },
    {
      "cell_type": "markdown",
      "source": [
        "### Using Perplexity Online APIs to fetch latest news"
      ],
      "metadata": {
        "id": "mK-xA8GKUgzk"
      }
    },
    {
      "cell_type": "code",
      "source": [
        "from langchain_openai import ChatOpenAI\n",
        "from google.colab import userdata\n",
        "\n",
        "sonar = ChatOpenAI(model = \"perplexity/llama-3-sonar-large-32k-online\",\n",
        "                      openai_api_key = userdata.get(\"OPENROUTER_API_KEY\"),\n",
        "                      openai_api_base = \"https://openrouter.ai/api/v1\"\n",
        "\n",
        ")\n",
        "\n",
        "response = sonar.invoke(\"Give me the latest upates on AI on 18th July\")\n",
        "print(response.content)"
      ],
      "metadata": {
        "colab": {
          "base_uri": "https://localhost:8080/"
        },
        "id": "4H0l7i6oNRKW",
        "outputId": "3d36dbb5-9137-43d1-c3ef-fc359053cdc7"
      },
      "execution_count": 9,
      "outputs": [
        {
          "output_type": "stream",
          "name": "stdout",
          "text": [
            "As of July 18, 2023, there have been several significant updates and discussions related to artificial intelligence (AI):\n",
            "\n",
            "1. **UN Security Council Meeting on AI**:\n",
            "   - The UN Security Council held its first-ever meeting on AI, focusing on the need for global governance and regulation of AI to prevent threats and ensure its benefits are shared equitably. The meeting featured briefings from experts like Jack Clark of Anthropic and Yi Zeng from the Chinese Academy of Sciences. The UN Secretary-General, António Guterres, emphasized the need for a universal approach to governance, integrating the private sector, civil society, and independent scientists.\n",
            "\n",
            "2. **Daily AI Roundup**:\n",
            "   - The AI Daily Roundup covered updates on machine learning, robotics, and automation, highlighting the latest developments in these fields.\n",
            "\n",
            "These updates highlight the growing attention and concern about the potential risks and benefits of AI, as well as the need for collaborative and structured approaches to governance and regulation.\n"
          ]
        }
      ]
    },
    {
      "cell_type": "markdown",
      "source": [
        "### Generating questions with Educhain on Latest news content"
      ],
      "metadata": {
        "id": "VWwFbjX8VJqx"
      }
    },
    {
      "cell_type": "code",
      "source": [
        "from educhain import qna_engine\n",
        "\n",
        "response = sonar.invoke(\"Give me the latest news on US Presidential Elections between 12-15th July\")\n",
        "\n",
        "news_content = response.content\n",
        "\n",
        "news_mcq = qna_engine.generate_mcqs_from_data(\n",
        "        source=news_content,\n",
        "        source_type=\"text\",\n",
        "        num=5,\n",
        "    )\n",
        "\n",
        "news_mcq.show()"
      ],
      "metadata": {
        "colab": {
          "base_uri": "https://localhost:8080/"
        },
        "id": "cCn40vfeOqMA",
        "outputId": "c05a242b-ea4c-452d-90c5-c70ed0d68a94"
      },
      "execution_count": null,
      "outputs": [
        {
          "output_type": "stream",
          "name": "stdout",
          "text": [
            "Question 1:\n",
            "Question: Who has officially become the Republican presidential nominee?\n",
            "Options:\n",
            "  A. Joe Biden\n",
            "  B. Kamala Harris\n",
            "  C. Donald Trump\n",
            "  D. JD Vance\n",
            "\n",
            "Correct Answer: Donald Trump\n",
            "Explanation: Donald Trump officially became the Republican presidential nominee after receiving enough delegate votes at the Republican National Convention in Milwaukee.\n",
            "\n",
            "Question 2:\n",
            "Question: Who did Trump name as his running mate?\n",
            "Options:\n",
            "  A. Mike Pence\n",
            "  B. JD Vance\n",
            "  C. Kamala Harris\n",
            "  D. Elizabeth Warren\n",
            "\n",
            "Correct Answer: JD Vance\n",
            "Explanation: Trump named JD Vance as his running mate amidst the security threats following the assassination attempt.\n",
            "\n",
            "Question 3:\n",
            "Question: What is the Republican Party revising for the first time since 2016?\n",
            "Options:\n",
            "  A. Campaign ads\n",
            "  B. Policy platform\n",
            "  C. Vice Presidential nominee\n",
            "  D. Security protocols\n",
            "\n",
            "Correct Answer: Policy platform\n",
            "Explanation: The Republican Party is revising its policy platform for the first time since 2016 to avoid providing ammunition to the Democrats on key campaign topics.\n",
            "\n",
            "Question 4:\n",
            "Question: What did the Democratic Party do in response to Trump's narrative?\n",
            "Options:\n",
            "  A. Increased campaign ads\n",
            "  B. Halted campaign ads and events\n",
            "  C. Attacked Trump directly\n",
            "  D. Focused on policy discussions\n",
            "\n",
            "Correct Answer: Halted campaign ads and events\n",
            "Explanation: The Democratic Party temporarily halted campaign ads and events to counter Trump's narrative.\n",
            "\n",
            "Question 5:\n",
            "Question: Which state showed President Biden trailing Trump in polls before the assassination attempt?\n",
            "Options:\n",
            "  A. California\n",
            "  B. Texas\n",
            "  C. Florida\n",
            "  D. Pennsylvania\n",
            "\n",
            "Correct Answer: Pennsylvania\n",
            "Explanation: Before the assassination attempt, polls showed President Biden trailing Trump in Pennsylvania, a crucial state for both candidates.\n",
            "\n"
          ]
        }
      ]
    },
    {
      "cell_type": "code",
      "source": [
        "from educhain import qna_engine\n",
        "\n",
        "def generate_news_mcqs(topic, num_questions=5):\n",
        "    \"\"\"\n",
        "    Generate multiple-choice questions based on current news about a given topic.\n",
        "\n",
        "    Args:\n",
        "    topic (str): The news topic to fetch and generate questions about.\n",
        "    num_questions (int): The number of questions to generate (default is 5).\n",
        "\n",
        "    Returns:\n",
        "    None: Prints the generated questions.\n",
        "    \"\"\"\n",
        "    try:\n",
        "        # Create a prompt template for Sonar\n",
        "        sonar_prompt = f\"\"\"Fetch and summarize the latest news articles about {topic}.\n",
        "        Focus on the most significant events and developments.\n",
        "        Provide a concise summary of 3-5 key points.\"\"\"\n",
        "\n",
        "        # Fetch news using Sonar\n",
        "        response = sonar.invoke(sonar_prompt)\n",
        "        news_content = response.content\n",
        "\n",
        "        print(f\"Fetched news about {topic}:\")\n",
        "        print(news_content)\n",
        "        print(\"\\nGenerating questions based on the news...\\n\")\n",
        "\n",
        "        # Generate MCQs using the qna_engine\n",
        "        mcq_list = qna_engine.generate_mcqs_from_data(\n",
        "            source=news_content,\n",
        "            source_type=\"text\",\n",
        "            num=num_questions,\n",
        "        )\n",
        "\n",
        "        # Display the generated questions\n",
        "        print(f\"Generated {num_questions} questions on the latest news about {topic}:\\n\")\n",
        "        mcq_list.show()\n",
        "    except Exception as e:\n",
        "        print(f\"An error occurred: {str(e)}\")"
      ],
      "metadata": {
        "id": "E4mwsKsQUfmy"
      },
      "execution_count": 12,
      "outputs": []
    },
    {
      "cell_type": "code",
      "source": [
        "generate_news_mcqs(\"US Presidential Elections\", num_questions=5)"
      ],
      "metadata": {
        "colab": {
          "base_uri": "https://localhost:8080/"
        },
        "id": "d-5pqKfLUzPS",
        "outputId": "21ba0a5e-056b-4b0b-b812-30a2b3717bcf"
      },
      "execution_count": 13,
      "outputs": [
        {
          "output_type": "stream",
          "name": "stdout",
          "text": [
            "Fetched news about US Presidential Elections:\n",
            "Here are the latest news articles about the 2024 US Presidential Elections:\n",
            "\n",
            "1. **Presidential Candidates' Positions on Key Issues**: \n",
            "   - Joe Biden and Donald Trump, the two main presidential candidates, have sharply defined positions on issues like climate change, taxes, immigration, and democracy. Biden emphasizes the need to protect democracy and increase taxes on the super rich, while Trump promises to lower corporate taxes and deploy the National Guard to cities with high crime rates.\n",
            "\n",
            "2. **Campaign Trail and Debates**: \n",
            "   - Candidates from both parties have been actively campaigning and participating in televised debates, focusing on issues like policy, national unity, and democracy. Biden has centered his campaign on criticizing Trump as a threat to democracy, while Trump has been known for his bombastic style and political grudges.\n",
            "\n",
            "3. **Electoral College Process**: \n",
            "   - The presidential election process involves the Electoral College, where electors from each state cast votes to determine the president. A candidate needs a majority of electoral votes (270 out of 538) to win. If no candidate receives a majority, the president is elected by the House of Representatives.\n",
            "\n",
            "These key points summarize the significant events and developments in the 2024 US Presidential Elections, highlighting the contrasting stances of the candidates and the electoral process.\n",
            "\n",
            "Generating questions based on the news...\n",
            "\n",
            "Generated 5 questions on the latest news about US Presidential Elections:\n",
            "\n",
            "Question 1:\n",
            "Question: What are the key issues that Joe Biden and Donald Trump have sharply defined positions on?\n",
            "Options:\n",
            "  A. Healthcare and Education\n",
            "  B. Climate Change, Taxes, Immigration, and Democracy\n",
            "  C. Foreign Policy and National Security\n",
            "  D. Gun Control and Social Welfare\n",
            "\n",
            "Correct Answer: Climate Change, Taxes, Immigration, and Democracy\n",
            "Explanation: Biden emphasizes protecting democracy and increasing taxes on the super rich, while Trump promises to lower corporate taxes and deploy the National Guard to cities with high crime rates.\n",
            "\n",
            "Question 2:\n",
            "Question: What is the main focus of Biden's campaign?\n",
            "Options:\n",
            "  A. Criticizing Trump as a threat to democracy\n",
            "  B. Promoting lower taxes for the wealthy\n",
            "  C. Advocating for increased military spending\n",
            "  D. Supporting stricter immigration policies\n",
            "\n",
            "Correct Answer: Criticizing Trump as a threat to democracy\n",
            "Explanation: Biden has centered his campaign on criticizing Trump as a threat to democracy.\n",
            "\n",
            "Question 3:\n",
            "Question: How is the president elected if no candidate receives a majority of electoral votes?\n",
            "Options:\n",
            "  A. By popular vote\n",
            "  B. By the Senate\n",
            "  C. By the House of Representatives\n",
            "  D. By the Supreme Court\n",
            "\n",
            "Correct Answer: By the House of Representatives\n",
            "Explanation: If no candidate receives a majority of electoral votes, the president is elected by the House of Representatives.\n",
            "\n",
            "Question 4:\n",
            "Question: What is the Electoral College and how many electoral votes are needed to win the presidency?\n",
            "Options:\n",
            "  A. It is a group of advisors to the president, 200 electoral votes\n",
            "  B. It is the group of senators, 51 electoral votes\n",
            "  C. It is a group of electors from each state, 270 electoral votes\n",
            "  D. It is the group of governors, 100 electoral votes\n",
            "\n",
            "Correct Answer: It is a group of electors from each state, 270 electoral votes\n",
            "Explanation: The Electoral College is where electors from each state cast votes to determine the president, and a candidate needs a majority of 270 out of 538 electoral votes to win.\n",
            "\n",
            "Question 5:\n",
            "Question: What is the process through which the president is elected in the US?\n",
            "Options:\n",
            "  A. Direct popular vote\n",
            "  B. Electoral College vote\n",
            "  C. Congressional appointment\n",
            "  D. Supreme Court decision\n",
            "\n",
            "Correct Answer: Electoral College vote\n",
            "Explanation: The president is elected through the Electoral College, where electors from each state cast votes to determine the president.\n",
            "\n"
          ]
        }
      ]
    }
  ]
}