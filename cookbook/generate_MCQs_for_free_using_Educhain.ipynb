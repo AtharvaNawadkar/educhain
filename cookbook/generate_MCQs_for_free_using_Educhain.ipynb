{
  "nbformat": 4,
  "nbformat_minor": 0,
  "metadata": {
    "colab": {
      "provenance": []
    },
    "kernelspec": {
      "name": "python3",
      "display_name": "Python 3"
    },
    "language_info": {
      "name": "python"
    }
  },
  "cells": [
    {
      "cell_type": "markdown",
      "source": [
        "[![Open In Colab](https://colab.research.google.com/assets/colab-badge.svg)](https://colab.research.google.com/drive/1CVy1VyQhSFXPuivKclj4iDaByVMf8l2A?usp=sharing)"
      ],
      "metadata": {
        "id": "BsF00xBwroe7"
      }
    },
    {
      "cell_type": "markdown",
      "source": [
        "# Educhain\n",
        "\n",
        "[Educhain](https://github.com/satvik314/educhain) is a python package for generating educational content using Generative AI.\n",
        "\n",
        "\n",
        "In this notebook, we show you how to generate high quality MCQs for free using Gemini-1.5-Flash\n"
      ],
      "metadata": {
        "id": "VChCY1TnrNZr"
      }
    },
    {
      "cell_type": "code",
      "execution_count": 1,
      "metadata": {
        "id": "TwQXACO-m92_",
        "colab": {
          "base_uri": "https://localhost:8080/"
        },
        "outputId": "3867a020-24fd-4b72-d1bf-a4a7e2dc4832"
      },
      "outputs": [
        {
          "output_type": "stream",
          "name": "stdout",
          "text": [
            "\u001b[2K     \u001b[90m━━━━━━━━━━━━━━━━━━━━━━━━━━━━━━━━━━━━━━━━\u001b[0m \u001b[32m973.5/973.5 kB\u001b[0m \u001b[31m5.7 MB/s\u001b[0m eta \u001b[36m0:00:00\u001b[0m\n",
            "\u001b[2K     \u001b[90m━━━━━━━━━━━━━━━━━━━━━━━━━━━━━━━━━━━━━━━━\u001b[0m \u001b[32m2.1/2.1 MB\u001b[0m \u001b[31m10.5 MB/s\u001b[0m eta \u001b[36m0:00:00\u001b[0m\n",
            "\u001b[2K     \u001b[90m━━━━━━━━━━━━━━━━━━━━━━━━━━━━━━━━━━━━━━━━\u001b[0m \u001b[32m320.6/320.6 kB\u001b[0m \u001b[31m14.3 MB/s\u001b[0m eta \u001b[36m0:00:00\u001b[0m\n",
            "\u001b[2K     \u001b[90m━━━━━━━━━━━━━━━━━━━━━━━━━━━━━━━━━━━━━━━━\u001b[0m \u001b[32m1.9/1.9 MB\u001b[0m \u001b[31m18.0 MB/s\u001b[0m eta \u001b[36m0:00:00\u001b[0m\n",
            "\u001b[2K     \u001b[90m━━━━━━━━━━━━━━━━━━━━━━━━━━━━━━━━━━━━━━━━\u001b[0m \u001b[32m308.5/308.5 kB\u001b[0m \u001b[31m13.8 MB/s\u001b[0m eta \u001b[36m0:00:00\u001b[0m\n",
            "\u001b[2K     \u001b[90m━━━━━━━━━━━━━━━━━━━━━━━━━━━━━━━━━━━━━━━━\u001b[0m \u001b[32m122.8/122.8 kB\u001b[0m \u001b[31m4.4 MB/s\u001b[0m eta \u001b[36m0:00:00\u001b[0m\n",
            "\u001b[2K     \u001b[90m━━━━━━━━━━━━━━━━━━━━━━━━━━━━━━━━━━━━━━━━\u001b[0m \u001b[32m53.0/53.0 kB\u001b[0m \u001b[31m2.5 MB/s\u001b[0m eta \u001b[36m0:00:00\u001b[0m\n",
            "\u001b[2K     \u001b[90m━━━━━━━━━━━━━━━━━━━━━━━━━━━━━━━━━━━━━━━━\u001b[0m \u001b[32m1.1/1.1 MB\u001b[0m \u001b[31m14.1 MB/s\u001b[0m eta \u001b[36m0:00:00\u001b[0m\n",
            "\u001b[2K     \u001b[90m━━━━━━━━━━━━━━━━━━━━━━━━━━━━━━━━━━━━━━━━\u001b[0m \u001b[32m75.6/75.6 kB\u001b[0m \u001b[31m3.5 MB/s\u001b[0m eta \u001b[36m0:00:00\u001b[0m\n",
            "\u001b[2K     \u001b[90m━━━━━━━━━━━━━━━━━━━━━━━━━━━━━━━━━━━━━━━━\u001b[0m \u001b[32m49.3/49.3 kB\u001b[0m \u001b[31m1.3 MB/s\u001b[0m eta \u001b[36m0:00:00\u001b[0m\n",
            "\u001b[2K     \u001b[90m━━━━━━━━━━━━━━━━━━━━━━━━━━━━━━━━━━━━━━━━\u001b[0m \u001b[32m77.9/77.9 kB\u001b[0m \u001b[31m3.2 MB/s\u001b[0m eta \u001b[36m0:00:00\u001b[0m\n",
            "\u001b[2K     \u001b[90m━━━━━━━━━━━━━━━━━━━━━━━━━━━━━━━━━━━━━━━━\u001b[0m \u001b[32m58.3/58.3 kB\u001b[0m \u001b[31m2.0 MB/s\u001b[0m eta \u001b[36m0:00:00\u001b[0m\n",
            "\u001b[2K     \u001b[90m━━━━━━━━━━━━━━━━━━━━━━━━━━━━━━━━━━━━━━━━\u001b[0m \u001b[32m142.5/142.5 kB\u001b[0m \u001b[31m2.6 MB/s\u001b[0m eta \u001b[36m0:00:00\u001b[0m\n",
            "\u001b[?25h"
          ]
        }
      ],
      "source": [
        "!pip install -qU educhain langchain-google-genai"
      ]
    },
    {
      "cell_type": "markdown",
      "source": [
        "You will need a Gemini API key to run this notebook.\n",
        "- Get your API for free [here](https://aistudio.google.com)"
      ],
      "metadata": {
        "id": "_rp-QMDtnPMV"
      }
    },
    {
      "cell_type": "code",
      "source": [
        "import os\n",
        "from google.colab import userdata\n",
        "\n",
        "os.environ['GOOGLE_API_KEY'] = userdata.get('GOOGLE_API_KEY')"
      ],
      "metadata": {
        "id": "qTZSHPeInK2o"
      },
      "execution_count": 7,
      "outputs": []
    },
    {
      "cell_type": "markdown",
      "source": [
        "## Quickstart"
      ],
      "metadata": {
        "id": "WQczejpHvW5p"
      }
    },
    {
      "cell_type": "code",
      "source": [
        "from educhain import qna_engine\n",
        "from langchain_google_genai import ChatGoogleGenerativeAI\n",
        "\n",
        "gemini_flash = ChatGoogleGenerativeAI(model = \"gemini-1.5-flash-latest\")\n",
        "\n",
        "mcqs = qna_engine.generate_mcq(topic = \"Newton's Laws\",\n",
        "                               level = \"Advanced\",\n",
        "                               num = 5,\n",
        "                               llm = gemini_flash\n",
        "                               )\n",
        "\n",
        "mcqs.show()"
      ],
      "metadata": {
        "id": "RnC1O3ahodln",
        "colab": {
          "base_uri": "https://localhost:8080/"
        },
        "outputId": "ef3f67fd-f0d5-41b3-f7ac-aa8aa5169e82"
      },
      "execution_count": 8,
      "outputs": [
        {
          "output_type": "stream",
          "name": "stdout",
          "text": [
            "MCQs:\n",
            "\n",
            "Question 1:\n",
            "Question: Which of Newton's laws states that an object at rest stays at rest and an object in motion stays in motion at a constant velocity unless acted upon by an external force?\n",
            "Options:\n",
            "  A. Newton's First Law of Motion\n",
            "  B. Newton's Second Law of Motion\n",
            "  C. Newton's Third Law of Motion\n",
            "  D. Newton's Law of Universal Gravitation\n",
            "Correct Answer: Newton's First Law of Motion\n",
            "\n",
            "Question 2:\n",
            "Question: What is the relationship between force, mass, and acceleration as described by Newton's Second Law of Motion?\n",
            "Options:\n",
            "  A. Force is directly proportional to mass and inversely proportional to acceleration.\n",
            "  B. Force is directly proportional to acceleration and inversely proportional to mass.\n",
            "  C. Force is equal to the product of mass and acceleration.\n",
            "  D. Force is equal to the product of mass and velocity.\n",
            "Correct Answer: Force is equal to the product of mass and acceleration.\n",
            "\n",
            "Question 3:\n",
            "Question: For every action, there is an equal and opposite reaction. This is a statement of which of Newton's laws?\n",
            "Options:\n",
            "  A. Newton's First Law of Motion\n",
            "  B. Newton's Second Law of Motion\n",
            "  C. Newton's Third Law of Motion\n",
            "  D. Newton's Law of Universal Gravitation\n",
            "Correct Answer: Newton's Third Law of Motion\n",
            "\n",
            "Question 4:\n",
            "Question: A car is traveling at a constant velocity. Which of the following statements is true according to Newton's laws?\n",
            "Options:\n",
            "  A. The car is not experiencing any forces.\n",
            "  B. The car is experiencing a net force in the direction of motion.\n",
            "  C. The car is experiencing a net force opposite the direction of motion.\n",
            "  D. The car is experiencing a net force perpendicular to the direction of motion.\n",
            "Correct Answer: The car is not experiencing any forces.\n",
            "\n",
            "Question 5:\n",
            "Question: A ball is thrown vertically upwards. What force acts on the ball as it rises?\n",
            "Options:\n",
            "  A. Only the force of gravity\n",
            "  B. Only the force of air resistance\n",
            "  C. Both the force of gravity and the force of air resistance\n",
            "  D. Neither the force of gravity nor the force of air resistance\n",
            "Correct Answer: Both the force of gravity and the force of air resistance\n",
            "\n"
          ]
        }
      ]
    },
    {
      "cell_type": "code",
      "source": [
        "mcqs = qna_engine.generate_mcq(topic = \"Exponents\",\n",
        "                               level = \"Advanced\",\n",
        "                               num = 10,\n",
        "                               llm = gemini_flash\n",
        "                               )\n",
        "\n",
        "mcqs.show()"
      ],
      "metadata": {
        "colab": {
          "base_uri": "https://localhost:8080/"
        },
        "id": "MDrklkKCGoXm",
        "outputId": "a57f8d37-99a6-4637-8577-bb1d9eab6283"
      },
      "execution_count": 10,
      "outputs": [
        {
          "output_type": "stream",
          "name": "stdout",
          "text": [
            "MCQs:\n",
            "\n",
            "Question 1:\n",
            "Question: What is the value of 2^3?\n",
            "Options:\n",
            "  A. 6\n",
            "  B. 8\n",
            "  C. 9\n",
            "  D. 12\n",
            "Correct Answer: 8\n",
            "\n",
            "Question 2:\n",
            "Question: What is the result of 5^0?\n",
            "Options:\n",
            "  A. 0\n",
            "  B. 1\n",
            "  C. 5\n",
            "  D. undefined\n",
            "Correct Answer: 1\n",
            "\n",
            "Question 3:\n",
            "Question: Simplify: x^4 * x^2\n",
            "Options:\n",
            "  A. x^6\n",
            "  B. x^8\n",
            "  C. x^2\n",
            "  D. x^16\n",
            "Correct Answer: x^6\n",
            "\n",
            "Question 4:\n",
            "Question: What is the value of 3^-2?\n",
            "Options:\n",
            "  A. -9\n",
            "  B. -6\n",
            "  C. 1/9\n",
            "  D. 1/6\n",
            "Correct Answer: 1/9\n",
            "\n",
            "Question 5:\n",
            "Question: Simplify: (y^3)^2\n",
            "Options:\n",
            "  A. y^5\n",
            "  B. y^6\n",
            "  C. y^9\n",
            "  D. y^12\n",
            "Correct Answer: y^6\n",
            "\n",
            "Question 6:\n",
            "Question: What is the value of 16^(1/2)?\n",
            "Options:\n",
            "  A. 4\n",
            "  B. 8\n",
            "  C. 16\n",
            "  D. 32\n",
            "Correct Answer: 4\n",
            "\n",
            "Question 7:\n",
            "Question: Simplify: (a^2 / b^3)^4\n",
            "Options:\n",
            "  A. a^8 / b^12\n",
            "  B. a^6 / b^7\n",
            "  C. a^2 / b^7\n",
            "  D. a^8 / b^7\n",
            "Correct Answer: a^8 / b^12\n",
            "\n",
            "Question 8:\n",
            "Question: What is the value of 27^(2/3)?\n",
            "Options:\n",
            "  A. 9\n",
            "  B. 18\n",
            "  C. 27\n",
            "  D. 81\n",
            "Correct Answer: 9\n",
            "\n",
            "Question 9:\n",
            "Question: Simplify: (x^m * x^n) / x^(m+n)\n",
            "Options:\n",
            "  A. x^1\n",
            "  B. x^0\n",
            "  C. x^(m+n)\n",
            "  D. x^(m-n)\n",
            "Correct Answer: x^0\n",
            "\n",
            "Question 10:\n",
            "Question: Which of the following is equal to x^(1/3)?\n",
            "Options:\n",
            "  A. ∛x\n",
            "  B. x^3\n",
            "  C. x/3\n",
            "  D. 3x\n",
            "Correct Answer: ∛x\n",
            "\n"
          ]
        }
      ]
    },
    {
      "cell_type": "markdown",
      "source": [
        "## Custom Prompt Templates"
      ],
      "metadata": {
        "id": "zWVvfYN6vZiq"
      }
    },
    {
      "cell_type": "code",
      "source": [
        "from educhain import qna_engine\n",
        "\n",
        "custom_template = \"\"\"\n",
        "Generate {num} multiple-choice question (MCQ) based on the given topic and level.\n",
        "Provide the question, four answer options, and the correct answer.\n",
        "\n",
        "Topic: {topic}\n",
        "Learning Objective: {learning_objective}\n",
        "Difficulty Level: {difficulty_level}\n",
        "\"\"\"\n",
        "\n",
        "result = qna_engine.generate_mcq(\n",
        "    topic=\"Python Programming\",\n",
        "    num=5,\n",
        "    learning_objective = \"Usage of Python classes\",\n",
        "    difficulty_level = \"Hard\",\n",
        "    prompt_template=custom_template,\n",
        "    llm = gemini_flash\n",
        ")\n",
        "\n",
        "result.show()"
      ],
      "metadata": {
        "id": "OMKBgJSbMGIJ",
        "colab": {
          "base_uri": "https://localhost:8080/"
        },
        "outputId": "7af7629a-69aa-4185-97a4-a8ac2551db56"
      },
      "execution_count": 11,
      "outputs": [
        {
          "output_type": "stream",
          "name": "stdout",
          "text": [
            "MCQs:\n",
            "\n",
            "Question 1:\n",
            "Question: What is the purpose of the `__init__` method in a Python class?\n",
            "Options:\n",
            "  A. To define the class attributes.\n",
            "  B. To instantiate an object of the class.\n",
            "  C. To define the class methods.\n",
            "  D. To initialize the object's attributes.\n",
            "Correct Answer: To initialize the object's attributes.\n",
            "\n",
            "Question 2:\n",
            "Question: Which of the following statements about inheritance in Python is TRUE?\n",
            "Options:\n",
            "  A. A subclass can inherit from multiple superclasses.\n",
            "  B. A subclass cannot override methods from its superclass.\n",
            "  C. Inheritance allows code reuse but does not promote modularity.\n",
            "  D. The `super()` function is used to access methods of the subclass.\n",
            "Correct Answer: A subclass can inherit from multiple superclasses.\n",
            "\n",
            "Question 3:\n",
            "Question: What is the difference between a class method and a static method in Python?\n",
            "Options:\n",
            "  A. Class methods can access class attributes, while static methods cannot.\n",
            "  B. Static methods can be called on the class, while class methods cannot.\n",
            "  C. Class methods are used to create new instances of the class, while static methods are not.\n",
            "  D. There is no difference between class methods and static methods.\n",
            "Correct Answer: Class methods can access class attributes, while static methods cannot.\n",
            "\n",
            "Question 4:\n",
            "Question: Which of the following statements about the `self` parameter in Python class methods is TRUE?\n",
            "Options:\n",
            "  A. It is an optional parameter that can be omitted.\n",
            "  B. It refers to the class itself.\n",
            "  C. It is used to access the object's attributes and methods.\n",
            "  D. It is a reserved keyword in Python.\n",
            "Correct Answer: It is used to access the object's attributes and methods.\n",
            "\n",
            "Question 5:\n",
            "Question: What is the purpose of the `__str__` method in a Python class?\n",
            "Options:\n",
            "  A. To define the string representation of an object.\n",
            "  B. To create a new instance of the class.\n",
            "  C. To define the object's destructor.\n",
            "  D. To access the object's private attributes.\n",
            "Correct Answer: To define the string representation of an object.\n",
            "\n"
          ]
        }
      ]
    },
    {
      "cell_type": "code",
      "source": [],
      "metadata": {
        "id": "nxPlPv-JvQnV"
      },
      "execution_count": null,
      "outputs": []
    }
  ]
}