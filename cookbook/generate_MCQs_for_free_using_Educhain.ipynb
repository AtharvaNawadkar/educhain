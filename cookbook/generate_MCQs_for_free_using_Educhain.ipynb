{
  "nbformat": 4,
  "nbformat_minor": 0,
  "metadata": {
    "colab": {
      "provenance": [],
      "authorship_tag": "ABX9TyPxlJljmsCCDk0j+vemW/17",
      "include_colab_link": true
    },
    "kernelspec": {
      "name": "python3",
      "display_name": "Python 3"
    },
    "language_info": {
      "name": "python"
    }
  },
  "cells": [
    {
      "cell_type": "markdown",
      "metadata": {
        "id": "view-in-github",
        "colab_type": "text"
      },
      "source": [
        "<a href=\"https://colab.research.google.com/github/satvik314/educhain/blob/main/cookbook/generate_MCQs_for_free_using_Educhain.ipynb\" target=\"_parent\"><img src=\"https://colab.research.google.com/assets/colab-badge.svg\" alt=\"Open In Colab\"/></a>"
      ]
    },
    {
      "cell_type": "code",
      "execution_count": null,
      "metadata": {
        "id": "TwQXACO-m92_"
      },
      "outputs": [],
      "source": [
        "!pip install -qU educhain langchain-google-genai"
      ]
    },
    {
      "cell_type": "markdown",
      "source": [
        "Get your free Google API key here:\n",
        "1. Go to [ai.google.dev](ai.google.com)\n",
        "2. Click on \"Get API Key in Google AI Studio\"\n",
        "3. Click on \"Get API Key\" and generate your API key"
      ],
      "metadata": {
        "id": "_rp-QMDtnPMV"
      }
    },
    {
      "cell_type": "code",
      "source": [
        "import os\n",
        "\n",
        "os.environ['GOOGLE_API_KEY'] = \"\""
      ],
      "metadata": {
        "id": "qTZSHPeInK2o"
      },
      "execution_count": null,
      "outputs": []
    },
    {
      "cell_type": "code",
      "source": [
        "from educhain import qna_engine\n",
        "from langchain_google_genai import ChatGoogleGenerativeAI\n",
        "\n",
        "gemini_model = ChatGoogleGenerativeAI(model = \"gemini-pro\")\n",
        "\n",
        "mcqs = qna_engine.generate_mcq(topic = \"Newton's Laws\",\n",
        "                               level = \"Advanced\",\n",
        "                               num = 5,\n",
        "                               llm = gemini_model\n",
        "                               )"
      ],
      "metadata": {
        "id": "RnC1O3ahodln"
      },
      "execution_count": null,
      "outputs": []
    },
    {
      "cell_type": "code",
      "source": [
        "print(mcqs)"
      ],
      "metadata": {
        "colab": {
          "base_uri": "https://localhost:8080/"
        },
        "id": "Bf-IgeUcFIXD",
        "outputId": "3715bced-10a5-4819-be6b-85556d998deb"
      },
      "execution_count": null,
      "outputs": [
        {
          "output_type": "stream",
          "name": "stdout",
          "text": [
            "questions=[MCQ(question=\"According to Newton's second law, the acceleration of an object is directly proportional to the:\", options=['Force acting on the object', 'Mass of the object', 'Velocity of the object', 'Momentum of the object'], correct_answer='Force acting on the object'), MCQ(question=\"Newton's third law states that for every action, there is an equal and opposite:\", options=['Force', 'Acceleration', 'Velocity', 'Momentum'], correct_answer='Force'), MCQ(question=\"In the context of Newton's laws, mass is a measure of an object's:\", options=['Inertia', 'Weight', 'Density', 'Volume'], correct_answer='Inertia'), MCQ(question=\"Which of the following is NOT a consequence of Newton's laws of motion?\", options=['Objects at rest remain at rest unless acted upon by an external force.', 'The acceleration of an object is inversely proportional to its mass.', 'For every action, there is an equal and opposite reaction.', 'Momentum is conserved in closed systems.'], correct_answer='The acceleration of an object is inversely proportional to its mass.'), MCQ(question=\"Newton's laws of motion are primarily applicable to:\", options=['Microscopic systems', 'Macroscopic systems', 'Relativistic systems', 'Quantum systems'], correct_answer='Macroscopic systems')]\n"
          ]
        }
      ]
    },
    {
      "cell_type": "code",
      "source": [
        "mcqs.show()"
      ],
      "metadata": {
        "colab": {
          "base_uri": "https://localhost:8080/"
        },
        "id": "MDrklkKCGoXm",
        "outputId": "e416fb29-c561-4cb3-f4aa-c6382d7572a3"
      },
      "execution_count": null,
      "outputs": [
        {
          "output_type": "stream",
          "name": "stdout",
          "text": [
            "MCQs:\n",
            "\n",
            "Question 1:\n",
            "Question: According to Newton's second law, the acceleration of an object is directly proportional to the:\n",
            "Options:\n",
            "  A. Force acting on the object\n",
            "  B. Mass of the object\n",
            "  C. Velocity of the object\n",
            "  D. Momentum of the object\n",
            "Correct Answer: Force acting on the object\n",
            "\n",
            "Question 2:\n",
            "Question: Newton's third law states that for every action, there is an equal and opposite:\n",
            "Options:\n",
            "  A. Force\n",
            "  B. Acceleration\n",
            "  C. Velocity\n",
            "  D. Momentum\n",
            "Correct Answer: Force\n",
            "\n",
            "Question 3:\n",
            "Question: In the context of Newton's laws, mass is a measure of an object's:\n",
            "Options:\n",
            "  A. Inertia\n",
            "  B. Weight\n",
            "  C. Density\n",
            "  D. Volume\n",
            "Correct Answer: Inertia\n",
            "\n",
            "Question 4:\n",
            "Question: Which of the following is NOT a consequence of Newton's laws of motion?\n",
            "Options:\n",
            "  A. Objects at rest remain at rest unless acted upon by an external force.\n",
            "  B. The acceleration of an object is inversely proportional to its mass.\n",
            "  C. For every action, there is an equal and opposite reaction.\n",
            "  D. Momentum is conserved in closed systems.\n",
            "Correct Answer: The acceleration of an object is inversely proportional to its mass.\n",
            "\n",
            "Question 5:\n",
            "Question: Newton's laws of motion are primarily applicable to:\n",
            "Options:\n",
            "  A. Microscopic systems\n",
            "  B. Macroscopic systems\n",
            "  C. Relativistic systems\n",
            "  D. Quantum systems\n",
            "Correct Answer: Macroscopic systems\n",
            "\n"
          ]
        }
      ]
    },
    {
      "cell_type": "code",
      "source": [],
      "metadata": {
        "id": "OMKBgJSbMGIJ"
      },
      "execution_count": null,
      "outputs": []
    }
  ]
}